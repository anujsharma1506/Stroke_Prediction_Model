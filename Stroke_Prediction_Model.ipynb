{
 "cells": [
  {
   "cell_type": "markdown",
   "id": "bef9d90d-5b45-4277-85d3-3a19765f9548",
   "metadata": {},
   "source": [
    "### Abstract for the Stroke Prediction Dataset\n",
    "\n",
    "Imagine a world where healthcare decisions are data-driven, allowing for early detection and prevention of life-threatening conditions. This notebook takes you on a journey through the **Stroke Prediction Dataset**, a collection of real-world health attributes designed to uncover patterns and factors that contribute to strokes. The story begins with the challenge of working with imbalanced data—where positive cases of strokes are rare but hold the most significance.\n",
    "\n",
    "Each attribute in the dataset, such as age, glucose levels, and BMI, is like a puzzle piece, coming together to reveal insights about stroke risk. The preprocessing phase cleanses and prepares the data, handling missing values and balancing the dataset to ensure fairness in the prediction process. With visualizations and exploratory data analysis (EDA), the notebook brings the dataset to life, showing how demographics and medical history intertwine to shape health outcomes.\n",
    "\n",
    "The journey doesn’t stop there. With the dataset prepared, the notebook steps into the world of machine learning, testing multiple models like Decision Trees, Random Forests, and XGBoost. It carefully evaluates their performance, ultimately identifying the Random Forest model as the hero—delivering exceptional accuracy in predicting stroke risks.\n",
    "\n",
    "This notebook tells a compelling story of how data, when explored and analyzed thoughtfully, can make a meaningful impact in healthcare. It serves as a testament to the power of analytics in understanding complex medical phenomena and paves the way for future innovations in predictive healthcare solutions."
   ]
  },
  {
   "cell_type": "markdown",
   "id": "e45d4810-c4ab-4d64-8658-0a47b3d791b7",
   "metadata": {},
   "source": [
    "### HIPAA Compliance\n",
    "\n",
    "This analysis and predictive modeling have been conducted while adhering to **HIPAA (Health Insurance Portability and Accountability Act)** policies. The dataset used does not contain any Personally Identifiable Information (PII) such as patient names, social security numbers, or detailed contact information. All health data has been de-identified and anonymized to ensure privacy and confidentiality.\n",
    "\n",
    "The focus of this project is solely on deriving insights and building predictive capabilities that can aid in healthcare decision-making, without compromising the security and integrity of individual patient information. By following these guidelines, this notebook ensures compliance with HIPAA and maintains the highest standards of ethical data usage.\n"
   ]
  },
  {
   "cell_type": "code",
   "execution_count": 1,
   "id": "dcd03b33-b099-46f2-88d9-44e10706a493",
   "metadata": {},
   "outputs": [],
   "source": [
    "import numpy as np\n",
    "import pandas as pd\n",
    "import seaborn as sns\n",
    "import matplotlib.pyplot as plt\n",
    "import warnings\n",
    "warnings.filterwarnings(\"ignore\", category=FutureWarning)"
   ]
  },
  {
   "cell_type": "code",
   "execution_count": 2,
   "id": "065a3977-1667-4f3a-9a00-0a2612461dcf",
   "metadata": {},
   "outputs": [],
   "source": [
    "stroke_data= pd.read_csv(\"stroke_data.csv\")"
   ]
  },
  {
   "cell_type": "code",
   "execution_count": 5,
   "id": "e7e18b18-13c9-4df4-8188-f4974e3c103c",
   "metadata": {},
   "outputs": [
    {
     "data": {
      "text/plain": [
       "(5110, 12)"
      ]
     },
     "execution_count": 5,
     "metadata": {},
     "output_type": "execute_result"
    }
   ],
   "source": [
    "stroke_data.shape"
   ]
  },
  {
   "cell_type": "code",
   "execution_count": 7,
   "id": "526a3111-0c83-4877-b79b-31d11a5ad800",
   "metadata": {},
   "outputs": [
    {
     "name": "stdout",
     "output_type": "stream",
     "text": [
      "<class 'pandas.core.frame.DataFrame'>\n",
      "RangeIndex: 5110 entries, 0 to 5109\n",
      "Data columns (total 12 columns):\n",
      " #   Column             Non-Null Count  Dtype  \n",
      "---  ------             --------------  -----  \n",
      " 0   id                 5110 non-null   int64  \n",
      " 1   gender             5110 non-null   object \n",
      " 2   age                5110 non-null   float64\n",
      " 3   hypertension       5110 non-null   int64  \n",
      " 4   heart_disease      5110 non-null   int64  \n",
      " 5   ever_married       5110 non-null   object \n",
      " 6   work_type          5110 non-null   object \n",
      " 7   Residence_type     5110 non-null   object \n",
      " 8   avg_glucose_level  5110 non-null   float64\n",
      " 9   bmi                4909 non-null   float64\n",
      " 10  smoking_status     5110 non-null   object \n",
      " 11  stroke             5110 non-null   int64  \n",
      "dtypes: float64(3), int64(4), object(5)\n",
      "memory usage: 479.2+ KB\n"
     ]
    }
   ],
   "source": [
    "stroke_data.info()"
   ]
  },
  {
   "cell_type": "code",
   "execution_count": 9,
   "id": "fa5f48f4-2c2f-4196-8c17-6a82eee98315",
   "metadata": {},
   "outputs": [
    {
     "data": {
      "text/plain": [
       "id                     int64\n",
       "gender                object\n",
       "age                  float64\n",
       "hypertension           int64\n",
       "heart_disease          int64\n",
       "ever_married          object\n",
       "work_type             object\n",
       "Residence_type        object\n",
       "avg_glucose_level    float64\n",
       "bmi                  float64\n",
       "smoking_status        object\n",
       "stroke                 int64\n",
       "dtype: object"
      ]
     },
     "execution_count": 9,
     "metadata": {},
     "output_type": "execute_result"
    }
   ],
   "source": [
    "stroke_data.dtypes"
   ]
  },
  {
   "cell_type": "code",
   "execution_count": 11,
   "id": "82b2ff03-7f9f-4bf3-906a-9bb05cb54012",
   "metadata": {},
   "outputs": [
    {
     "data": {
      "text/html": [
       "<div>\n",
       "<style scoped>\n",
       "    .dataframe tbody tr th:only-of-type {\n",
       "        vertical-align: middle;\n",
       "    }\n",
       "\n",
       "    .dataframe tbody tr th {\n",
       "        vertical-align: top;\n",
       "    }\n",
       "\n",
       "    .dataframe thead th {\n",
       "        text-align: right;\n",
       "    }\n",
       "</style>\n",
       "<table border=\"1\" class=\"dataframe\">\n",
       "  <thead>\n",
       "    <tr style=\"text-align: right;\">\n",
       "      <th></th>\n",
       "      <th>id</th>\n",
       "      <th>age</th>\n",
       "      <th>hypertension</th>\n",
       "      <th>heart_disease</th>\n",
       "      <th>avg_glucose_level</th>\n",
       "      <th>bmi</th>\n",
       "      <th>stroke</th>\n",
       "    </tr>\n",
       "  </thead>\n",
       "  <tbody>\n",
       "    <tr>\n",
       "      <th>count</th>\n",
       "      <td>5110.000000</td>\n",
       "      <td>5110.000000</td>\n",
       "      <td>5110.000000</td>\n",
       "      <td>5110.000000</td>\n",
       "      <td>5110.000000</td>\n",
       "      <td>4909.000000</td>\n",
       "      <td>5110.000000</td>\n",
       "    </tr>\n",
       "    <tr>\n",
       "      <th>mean</th>\n",
       "      <td>36517.829354</td>\n",
       "      <td>43.226614</td>\n",
       "      <td>0.097456</td>\n",
       "      <td>0.054012</td>\n",
       "      <td>106.147677</td>\n",
       "      <td>28.893237</td>\n",
       "      <td>0.048728</td>\n",
       "    </tr>\n",
       "    <tr>\n",
       "      <th>std</th>\n",
       "      <td>21161.721625</td>\n",
       "      <td>22.612647</td>\n",
       "      <td>0.296607</td>\n",
       "      <td>0.226063</td>\n",
       "      <td>45.283560</td>\n",
       "      <td>7.854067</td>\n",
       "      <td>0.215320</td>\n",
       "    </tr>\n",
       "    <tr>\n",
       "      <th>min</th>\n",
       "      <td>67.000000</td>\n",
       "      <td>0.080000</td>\n",
       "      <td>0.000000</td>\n",
       "      <td>0.000000</td>\n",
       "      <td>55.120000</td>\n",
       "      <td>10.300000</td>\n",
       "      <td>0.000000</td>\n",
       "    </tr>\n",
       "    <tr>\n",
       "      <th>25%</th>\n",
       "      <td>17741.250000</td>\n",
       "      <td>25.000000</td>\n",
       "      <td>0.000000</td>\n",
       "      <td>0.000000</td>\n",
       "      <td>77.245000</td>\n",
       "      <td>23.500000</td>\n",
       "      <td>0.000000</td>\n",
       "    </tr>\n",
       "    <tr>\n",
       "      <th>50%</th>\n",
       "      <td>36932.000000</td>\n",
       "      <td>45.000000</td>\n",
       "      <td>0.000000</td>\n",
       "      <td>0.000000</td>\n",
       "      <td>91.885000</td>\n",
       "      <td>28.100000</td>\n",
       "      <td>0.000000</td>\n",
       "    </tr>\n",
       "    <tr>\n",
       "      <th>75%</th>\n",
       "      <td>54682.000000</td>\n",
       "      <td>61.000000</td>\n",
       "      <td>0.000000</td>\n",
       "      <td>0.000000</td>\n",
       "      <td>114.090000</td>\n",
       "      <td>33.100000</td>\n",
       "      <td>0.000000</td>\n",
       "    </tr>\n",
       "    <tr>\n",
       "      <th>max</th>\n",
       "      <td>72940.000000</td>\n",
       "      <td>82.000000</td>\n",
       "      <td>1.000000</td>\n",
       "      <td>1.000000</td>\n",
       "      <td>271.740000</td>\n",
       "      <td>97.600000</td>\n",
       "      <td>1.000000</td>\n",
       "    </tr>\n",
       "  </tbody>\n",
       "</table>\n",
       "</div>"
      ],
      "text/plain": [
       "                 id          age  hypertension  heart_disease  \\\n",
       "count   5110.000000  5110.000000   5110.000000    5110.000000   \n",
       "mean   36517.829354    43.226614      0.097456       0.054012   \n",
       "std    21161.721625    22.612647      0.296607       0.226063   \n",
       "min       67.000000     0.080000      0.000000       0.000000   \n",
       "25%    17741.250000    25.000000      0.000000       0.000000   \n",
       "50%    36932.000000    45.000000      0.000000       0.000000   \n",
       "75%    54682.000000    61.000000      0.000000       0.000000   \n",
       "max    72940.000000    82.000000      1.000000       1.000000   \n",
       "\n",
       "       avg_glucose_level          bmi       stroke  \n",
       "count        5110.000000  4909.000000  5110.000000  \n",
       "mean          106.147677    28.893237     0.048728  \n",
       "std            45.283560     7.854067     0.215320  \n",
       "min            55.120000    10.300000     0.000000  \n",
       "25%            77.245000    23.500000     0.000000  \n",
       "50%            91.885000    28.100000     0.000000  \n",
       "75%           114.090000    33.100000     0.000000  \n",
       "max           271.740000    97.600000     1.000000  "
      ]
     },
     "execution_count": 11,
     "metadata": {},
     "output_type": "execute_result"
    }
   ],
   "source": [
    "stroke_data.describe()"
   ]
  },
  {
   "cell_type": "code",
   "execution_count": 13,
   "id": "62f80f28-ecce-4610-a885-a791bb4e918e",
   "metadata": {},
   "outputs": [
    {
     "data": {
      "text/plain": [
       "id                     0\n",
       "gender                 0\n",
       "age                    0\n",
       "hypertension           0\n",
       "heart_disease          0\n",
       "ever_married           0\n",
       "work_type              0\n",
       "Residence_type         0\n",
       "avg_glucose_level      0\n",
       "bmi                  201\n",
       "smoking_status         0\n",
       "stroke                 0\n",
       "dtype: int64"
      ]
     },
     "execution_count": 13,
     "metadata": {},
     "output_type": "execute_result"
    }
   ],
   "source": [
    "stroke_data.isnull().sum()"
   ]
  },
  {
   "cell_type": "code",
   "execution_count": 15,
   "id": "57ba4e17-77c7-402c-9e05-080a9b80d9dc",
   "metadata": {},
   "outputs": [],
   "source": [
    "stroke_data['bmi']=stroke_data['bmi'].fillna(stroke_data['bmi'].median())"
   ]
  },
  {
   "cell_type": "markdown",
   "id": "13c1495f-b933-45ca-aace-3cbd1660d70c",
   "metadata": {},
   "source": [
    "Removing the **ID attribute** as it does not contribute any statistical value for data prediction."
   ]
  },
  {
   "cell_type": "code",
   "execution_count": 18,
   "id": "82b94c6f-91b9-4de9-bc9b-561511ea4fd3",
   "metadata": {},
   "outputs": [
    {
     "data": {
      "text/html": [
       "<div>\n",
       "<style scoped>\n",
       "    .dataframe tbody tr th:only-of-type {\n",
       "        vertical-align: middle;\n",
       "    }\n",
       "\n",
       "    .dataframe tbody tr th {\n",
       "        vertical-align: top;\n",
       "    }\n",
       "\n",
       "    .dataframe thead th {\n",
       "        text-align: right;\n",
       "    }\n",
       "</style>\n",
       "<table border=\"1\" class=\"dataframe\">\n",
       "  <thead>\n",
       "    <tr style=\"text-align: right;\">\n",
       "      <th></th>\n",
       "      <th>gender</th>\n",
       "      <th>age</th>\n",
       "      <th>hypertension</th>\n",
       "      <th>heart_disease</th>\n",
       "      <th>ever_married</th>\n",
       "      <th>work_type</th>\n",
       "      <th>Residence_type</th>\n",
       "      <th>avg_glucose_level</th>\n",
       "      <th>bmi</th>\n",
       "      <th>smoking_status</th>\n",
       "      <th>stroke</th>\n",
       "    </tr>\n",
       "  </thead>\n",
       "  <tbody>\n",
       "    <tr>\n",
       "      <th>0</th>\n",
       "      <td>Male</td>\n",
       "      <td>67.0</td>\n",
       "      <td>0</td>\n",
       "      <td>1</td>\n",
       "      <td>Yes</td>\n",
       "      <td>Private</td>\n",
       "      <td>Urban</td>\n",
       "      <td>228.69</td>\n",
       "      <td>36.6</td>\n",
       "      <td>formerly smoked</td>\n",
       "      <td>1</td>\n",
       "    </tr>\n",
       "    <tr>\n",
       "      <th>1</th>\n",
       "      <td>Female</td>\n",
       "      <td>61.0</td>\n",
       "      <td>0</td>\n",
       "      <td>0</td>\n",
       "      <td>Yes</td>\n",
       "      <td>Self-employed</td>\n",
       "      <td>Rural</td>\n",
       "      <td>202.21</td>\n",
       "      <td>28.1</td>\n",
       "      <td>never smoked</td>\n",
       "      <td>1</td>\n",
       "    </tr>\n",
       "    <tr>\n",
       "      <th>2</th>\n",
       "      <td>Male</td>\n",
       "      <td>80.0</td>\n",
       "      <td>0</td>\n",
       "      <td>1</td>\n",
       "      <td>Yes</td>\n",
       "      <td>Private</td>\n",
       "      <td>Rural</td>\n",
       "      <td>105.92</td>\n",
       "      <td>32.5</td>\n",
       "      <td>never smoked</td>\n",
       "      <td>1</td>\n",
       "    </tr>\n",
       "    <tr>\n",
       "      <th>3</th>\n",
       "      <td>Female</td>\n",
       "      <td>49.0</td>\n",
       "      <td>0</td>\n",
       "      <td>0</td>\n",
       "      <td>Yes</td>\n",
       "      <td>Private</td>\n",
       "      <td>Urban</td>\n",
       "      <td>171.23</td>\n",
       "      <td>34.4</td>\n",
       "      <td>smokes</td>\n",
       "      <td>1</td>\n",
       "    </tr>\n",
       "    <tr>\n",
       "      <th>4</th>\n",
       "      <td>Female</td>\n",
       "      <td>79.0</td>\n",
       "      <td>1</td>\n",
       "      <td>0</td>\n",
       "      <td>Yes</td>\n",
       "      <td>Self-employed</td>\n",
       "      <td>Rural</td>\n",
       "      <td>174.12</td>\n",
       "      <td>24.0</td>\n",
       "      <td>never smoked</td>\n",
       "      <td>1</td>\n",
       "    </tr>\n",
       "    <tr>\n",
       "      <th>...</th>\n",
       "      <td>...</td>\n",
       "      <td>...</td>\n",
       "      <td>...</td>\n",
       "      <td>...</td>\n",
       "      <td>...</td>\n",
       "      <td>...</td>\n",
       "      <td>...</td>\n",
       "      <td>...</td>\n",
       "      <td>...</td>\n",
       "      <td>...</td>\n",
       "      <td>...</td>\n",
       "    </tr>\n",
       "    <tr>\n",
       "      <th>5105</th>\n",
       "      <td>Female</td>\n",
       "      <td>80.0</td>\n",
       "      <td>1</td>\n",
       "      <td>0</td>\n",
       "      <td>Yes</td>\n",
       "      <td>Private</td>\n",
       "      <td>Urban</td>\n",
       "      <td>83.75</td>\n",
       "      <td>28.1</td>\n",
       "      <td>never smoked</td>\n",
       "      <td>0</td>\n",
       "    </tr>\n",
       "    <tr>\n",
       "      <th>5106</th>\n",
       "      <td>Female</td>\n",
       "      <td>81.0</td>\n",
       "      <td>0</td>\n",
       "      <td>0</td>\n",
       "      <td>Yes</td>\n",
       "      <td>Self-employed</td>\n",
       "      <td>Urban</td>\n",
       "      <td>125.20</td>\n",
       "      <td>40.0</td>\n",
       "      <td>never smoked</td>\n",
       "      <td>0</td>\n",
       "    </tr>\n",
       "    <tr>\n",
       "      <th>5107</th>\n",
       "      <td>Female</td>\n",
       "      <td>35.0</td>\n",
       "      <td>0</td>\n",
       "      <td>0</td>\n",
       "      <td>Yes</td>\n",
       "      <td>Self-employed</td>\n",
       "      <td>Rural</td>\n",
       "      <td>82.99</td>\n",
       "      <td>30.6</td>\n",
       "      <td>never smoked</td>\n",
       "      <td>0</td>\n",
       "    </tr>\n",
       "    <tr>\n",
       "      <th>5108</th>\n",
       "      <td>Male</td>\n",
       "      <td>51.0</td>\n",
       "      <td>0</td>\n",
       "      <td>0</td>\n",
       "      <td>Yes</td>\n",
       "      <td>Private</td>\n",
       "      <td>Rural</td>\n",
       "      <td>166.29</td>\n",
       "      <td>25.6</td>\n",
       "      <td>formerly smoked</td>\n",
       "      <td>0</td>\n",
       "    </tr>\n",
       "    <tr>\n",
       "      <th>5109</th>\n",
       "      <td>Female</td>\n",
       "      <td>44.0</td>\n",
       "      <td>0</td>\n",
       "      <td>0</td>\n",
       "      <td>Yes</td>\n",
       "      <td>Govt_job</td>\n",
       "      <td>Urban</td>\n",
       "      <td>85.28</td>\n",
       "      <td>26.2</td>\n",
       "      <td>Unknown</td>\n",
       "      <td>0</td>\n",
       "    </tr>\n",
       "  </tbody>\n",
       "</table>\n",
       "<p>5110 rows × 11 columns</p>\n",
       "</div>"
      ],
      "text/plain": [
       "      gender   age  hypertension  heart_disease ever_married      work_type  \\\n",
       "0       Male  67.0             0              1          Yes        Private   \n",
       "1     Female  61.0             0              0          Yes  Self-employed   \n",
       "2       Male  80.0             0              1          Yes        Private   \n",
       "3     Female  49.0             0              0          Yes        Private   \n",
       "4     Female  79.0             1              0          Yes  Self-employed   \n",
       "...      ...   ...           ...            ...          ...            ...   \n",
       "5105  Female  80.0             1              0          Yes        Private   \n",
       "5106  Female  81.0             0              0          Yes  Self-employed   \n",
       "5107  Female  35.0             0              0          Yes  Self-employed   \n",
       "5108    Male  51.0             0              0          Yes        Private   \n",
       "5109  Female  44.0             0              0          Yes       Govt_job   \n",
       "\n",
       "     Residence_type  avg_glucose_level   bmi   smoking_status  stroke  \n",
       "0             Urban             228.69  36.6  formerly smoked       1  \n",
       "1             Rural             202.21  28.1     never smoked       1  \n",
       "2             Rural             105.92  32.5     never smoked       1  \n",
       "3             Urban             171.23  34.4           smokes       1  \n",
       "4             Rural             174.12  24.0     never smoked       1  \n",
       "...             ...                ...   ...              ...     ...  \n",
       "5105          Urban              83.75  28.1     never smoked       0  \n",
       "5106          Urban             125.20  40.0     never smoked       0  \n",
       "5107          Rural              82.99  30.6     never smoked       0  \n",
       "5108          Rural             166.29  25.6  formerly smoked       0  \n",
       "5109          Urban              85.28  26.2          Unknown       0  \n",
       "\n",
       "[5110 rows x 11 columns]"
      ]
     },
     "execution_count": 18,
     "metadata": {},
     "output_type": "execute_result"
    }
   ],
   "source": [
    "stroke_data.drop(['id'], axis=1)"
   ]
  },
  {
   "cell_type": "markdown",
   "id": "c73166e9-9d7f-4bc2-a85d-35c49509f126",
   "metadata": {},
   "source": [
    "### Gender Analysis\n"
   ]
  },
  {
   "cell_type": "markdown",
   "id": "8d2cff8a-21be-4630-8f54-7038ba9bfc3a",
   "metadata": {},
   "source": [
    "Calculating the count of each unique vale in the \"gender\" Column"
   ]
  },
  {
   "cell_type": "code",
   "execution_count": 22,
   "id": "c9da116c-7a2d-4099-af4a-7fd47e5e0938",
   "metadata": {},
   "outputs": [
    {
     "data": {
      "text/plain": [
       "gender\n",
       "Female    2994\n",
       "Male      2115\n",
       "Other        1\n",
       "Name: count, dtype: int64"
      ]
     },
     "execution_count": 22,
     "metadata": {},
     "output_type": "execute_result"
    }
   ],
   "source": [
    "stroke_data['gender'].value_counts()"
   ]
  },
  {
   "cell_type": "markdown",
   "id": "c1c56fd9-4638-4a7d-b77f-84782e7702ad",
   "metadata": {},
   "source": [
    "Replacing the **'Other'** category in the gender column with **'Female'** helps simplify gender classification. Given that **'Other'** has only one instance, this adjustment reduces data complexity and makes the dataset more manageable without significantly impacting the analysis."
   ]
  },
  {
   "cell_type": "code",
   "execution_count": 25,
   "id": "54d8e240-9259-4826-80ca-608e6364ea61",
   "metadata": {},
   "outputs": [],
   "source": [
    "# Removing the 'other' gender instance inorder to reduce the dimension\n",
    "stroke_data['gender'] = stroke_data['gender'].replace('Other','Female')"
   ]
  },
  {
   "cell_type": "markdown",
   "id": "662dd038-c95f-4244-92b9-acf3bbbde097",
   "metadata": {},
   "source": [
    "Generating the **count plot** provides a clear visualization of the **gender distribution** in the `stroke_data` DataFrame.\n",
    "\n",
    "\n"
   ]
  },
  {
   "cell_type": "code",
   "execution_count": 28,
   "id": "f877d9e8-9edc-4f2e-ae48-e6057c97afff",
   "metadata": {},
   "outputs": [
    {
     "name": "stdout",
     "output_type": "stream",
     "text": [
      "\n",
      "Gender Distribution Percentage:\n",
      "gender\n",
      "Female    0.586106\n",
      "Male      0.413894\n",
      "Name: proportion, dtype: float64\n"
     ]
    },
    {
     "data": {
      "image/png": "[encoded data removed]",
      "text/plain": [
       "<Figure size 640x480 with 1 Axes>"
      ]
     },
     "metadata": {},
     "output_type": "display_data"
    }
   ],
   "source": [
    "colors = ['#1f77b4', '#ff7f0e'] \n",
    "\n",
    "print(\"\\nGender Distribution Percentage:\")\n",
    "print(stroke_data['gender'].value_counts(normalize=True))\n",
    "\n",
    "# Plot gender distribution\n",
    "sns.countplot(x='gender', data=stroke_data, palette=colors)\n",
    "plt.title(\"Gender Distribution\")\n",
    "plt.legend(['Male', 'Female'], title='Gender')\n",
    "plt.show()"
   ]
  },
  {
   "cell_type": "markdown",
   "id": "4604505e-9258-442b-9212-ab6c07ebffc6",
   "metadata": {},
   "source": [
    "The chart indicates that the dataset has approximately **58.6% female** and **41.4% male** participants, highlighting a notable gender imbalance. This skewed distribution may impact trends and insights in health outcomes or other metrics. Recognizing this imbalance is essential to ensure that subsequent analyses account for potential biases and provide a comprehensive understanding of each subgroup’s unique patterns and characteristics."
   ]
  },
  {
   "cell_type": "markdown",
   "id": "6880d8de-eb6c-4ac9-9292-616d0820e78c",
   "metadata": {},
   "source": [
    "### Stroke Analysis\n",
    "This cell outputs the **distribution of stroke occurrences** in the dataset, displaying the **percentage of each category**.\n",
    "\n"
   ]
  },
  {
   "cell_type": "code",
   "execution_count": 32,
   "id": "f6b639f6-c0d7-439b-a03f-3b558cc131f0",
   "metadata": {},
   "outputs": [
    {
     "name": "stdout",
     "output_type": "stream",
     "text": [
      "\n",
      "Stroke Distribution Percentage:\n"
     ]
    },
    {
     "data": {
      "text/plain": [
       "stroke\n",
       "0    95.127202\n",
       "1     4.872798\n",
       "Name: proportion, dtype: float64"
      ]
     },
     "execution_count": 32,
     "metadata": {},
     "output_type": "execute_result"
    }
   ],
   "source": [
    "\n",
    "print(\"\\nStroke Distribution Percentage:\")\n",
    "stroke_data['stroke'].value_counts(normalize=True) * 100  # Percentage\n"
   ]
  },
  {
   "cell_type": "markdown",
   "id": "533c4b17-8b80-4601-bd68-39f9606720e4",
   "metadata": {},
   "source": [
    "The output reveals the **distribution of stroke occurrences** in the dataset. Approximately **95.1%** of participants did not experience a stroke, while around **4.9%** did. This indicates that the dataset is highly imbalanced, with a significantly lower proportion of stroke cases.\n"
   ]
  },
  {
   "cell_type": "markdown",
   "id": "74a92bbf-6dcb-4483-8c36-668276fd9b0a",
   "metadata": {},
   "source": [
    "### Age Analysis"
   ]
  },
  {
   "cell_type": "code",
   "execution_count": 36,
   "id": "49659203-e8f0-4294-bb70-1889b7ee06f2",
   "metadata": {},
   "outputs": [
    {
     "name": "stdout",
     "output_type": "stream",
     "text": [
      "\n",
      "Age Distribution:\n",
      "count    5110.000000\n",
      "mean       43.226614\n",
      "std        22.612647\n",
      "min         0.080000\n",
      "25%        25.000000\n",
      "50%        45.000000\n",
      "75%        61.000000\n",
      "max        82.000000\n",
      "Name: age, dtype: float64\n"
     ]
    },
    {
     "data": {
      "image/png": "[encoded data removed]",
      "text/plain": [
       "<Figure size 640x480 with 1 Axes>"
      ]
     },
     "metadata": {},
     "output_type": "display_data"
    }
   ],
   "source": [
    "# Graphical representation fo the data in age column\n",
    "\n",
    "print(\"\\nAge Distribution:\")\n",
    "print(stroke_data['age'].describe())\n",
    "sns.histplot(stroke_data['age'], kde=True)\n",
    "plt.title(\"Age Distribution\")\n",
    "plt.show()\n"
   ]
  },
  {
   "cell_type": "markdown",
   "id": "5d14a20c-e0ef-47ba-8fbc-0aa06e831fa2",
   "metadata": {},
   "source": [
    "\n",
    "The descriptive statistics and histogram provide an overview of the **age distribution** in the dataset. The **mean age** is approximately **43.2 years** with a **standard deviation** of **22.6 years**, indicating a fairly broad age range. The minimum age is **0**, while the maximum age reaches **82**.\n",
    "\n",
    "The histogram shows a relatively even distribution across different age groups, with peaks around ages **10-20**, **40-50**, and **80**. This balanced spread across ages allows for more comprehensive analysis across age demographics. The inclusion of the KDE (Kernel Density Estimate) line further highlights the density variations within the age distribution, which can be useful for detecting trends or biases related to age in further analyses."
   ]
  },
  {
   "cell_type": "markdown",
   "id": "6191243f-ee08-4a81-9c4c-be68d9e64723",
   "metadata": {},
   "source": [
    "### Hypertension Analysis"
   ]
  },
  {
   "cell_type": "code",
   "execution_count": 38,
   "id": "b8342f0b-b3c4-4fdb-99c6-4083194813e3",
   "metadata": {},
   "outputs": [
    {
     "name": "stdout",
     "output_type": "stream",
     "text": [
      "\n",
      "Hypertension Distribution:\n",
      "hypertension\n",
      "0    90.254403\n",
      "1     9.745597\n",
      "Name: proportion, dtype: float64\n"
     ]
    },
    {
     "data": {
      "image/png": "[encoded data removed]",
      "text/plain": [
       "<Figure size 640x480 with 1 Axes>"
      ]
     },
     "metadata": {},
     "output_type": "display_data"
    }
   ],
   "source": [
    "\n",
    "print(\"\\nHypertension Distribution:\")\n",
    "print(stroke_data['hypertension'].value_counts(normalize=True) * 100)\n",
    "sns.countplot(x='hypertension', data=stroke_data, palette=colors)\n",
    "plt.legend(['No', 'Yes'], title='Hypertension')\n",
    "plt.title(\"Hypertension Distribution\")\n",
    "plt.show()\n"
   ]
  },
  {
   "cell_type": "markdown",
   "id": "ccf45e17-64fc-481d-8cd7-b0bd4aa233b4",
   "metadata": {},
   "source": [
    "The chart and statistics reveal the **distribution of hypertension** cases in the dataset. Approximately **90.3%** of participants do not have hypertension, while around **9.7%** do, indicating a low prevalence of hypertension within this dataset.\n",
    "\n",
    "This imbalance suggests that hypertension cases are relatively rare compared to non-hypertension cases. When analyzing the impact of hypertension on other variables, it will be important to account for this disparity, as it may influence the results and interpretations. This understanding helps ensure that analyses related to hypertension are handled with appropriate statistical techniques to address the imbalance."
   ]
  },
  {
   "cell_type": "markdown",
   "id": "8790f8cd-e704-4665-aa94-7895b1d7080b",
   "metadata": {},
   "source": [
    "### Heart Disease Analysis"
   ]
  },
  {
   "cell_type": "code",
   "execution_count": 42,
   "id": "6d82abd6-14bc-4655-881c-5d0c4a2b1057",
   "metadata": {},
   "outputs": [
    {
     "name": "stdout",
     "output_type": "stream",
     "text": [
      "\n",
      "Heart Disease Distribution:\n",
      "heart_disease\n",
      "0    94.598826\n",
      "1     5.401174\n",
      "Name: proportion, dtype: float64\n"
     ]
    },
    {
     "data": {
      "image/png": "[encoded data removed]",
      "text/plain": [
       "<Figure size 640x480 with 1 Axes>"
      ]
     },
     "metadata": {},
     "output_type": "display_data"
    }
   ],
   "source": [
    "\n",
    "print(\"\\nHeart Disease Distribution:\")\n",
    "print(stroke_data['heart_disease'].value_counts(normalize=True) * 100)\n",
    "sns.countplot(x='heart_disease', data=stroke_data, palette=colors)\n",
    "plt.legend(['No', 'Yes'], title='Hear Disease')\n",
    "plt.title(\"Heart Disease Distribution\")\n",
    "plt.show()"
   ]
  },
  {
   "cell_type": "markdown",
   "id": "2286e40d-0917-43da-bbfc-af31dd9eb439",
   "metadata": {},
   "source": [
    "The chart and statistics display the **distribution of heart disease** cases in the dataset. Approximately **94.6%** of participants do not have heart disease, while around **5.4%** do, indicating a low prevalence of heart disease among participants.\n",
    "\n",
    "This imbalance shows that heart disease cases are relatively rare compared to non-heart disease cases in the dataset. Such a skewed distribution may impact the analysis, particularly when assessing relationships involving heart disease. It’s essential to consider this disparity to ensure that the statistical methods used are appropriate for handling imbalanced data and to derive meaningful insights."
   ]
  },
  {
   "cell_type": "markdown",
   "id": "c02862dc-f533-4fa6-93fe-e29af22b1776",
   "metadata": {},
   "source": [
    "### Work Type Analysis"
   ]
  },
  {
   "cell_type": "code",
   "execution_count": 46,
   "id": "c9ebcecf-6c1d-4b9a-9cf8-54c6bdfdbf9f",
   "metadata": {},
   "outputs": [
    {
     "name": "stdout",
     "output_type": "stream",
     "text": [
      "\n",
      "Work Type Distribution:\n",
      "work_type\n",
      "Private          57.240705\n",
      "Self-employed    16.027397\n",
      "children         13.444227\n",
      "Govt_job         12.857143\n",
      "Never_worked      0.430528\n",
      "Name: proportion, dtype: float64\n"
     ]
    },
    {
     "data": {
      "image/png": "[encoded data removed]",
      "text/plain": [
       "<Figure size 640x480 with 1 Axes>"
      ]
     },
     "metadata": {},
     "output_type": "display_data"
    }
   ],
   "source": [
    "\n",
    "print(\"\\nWork Type Distribution:\")\n",
    "print(stroke_data['work_type'].value_counts(normalize=True) * 100)\n",
    "sns.countplot(y='work_type', data=stroke_data)\n",
    "plt.title(\"Work Type Distribution\")\n",
    "plt.show()"
   ]
  },
  {
   "cell_type": "markdown",
   "id": "dcf0fe1e-9534-4c40-bb89-e8fb2d1795dc",
   "metadata": {},
   "source": [
    "The chart and statistics show the **distribution of work types** among participants in the dataset. The majority of participants, approximately **57.2%**, are employed in the **Private** sector, followed by **Self-employed** individuals at **16%**, and those categorized as **Children** at **13.4%**. Participants in **Government jobs** make up about **12.9%**, while **Never_worked** has the smallest representation at **0.4%**.\n",
    "\n",
    "This distribution highlights a dominant representation of private sector employees, which may influence any insights drawn on work-related factors. Understanding the work type distribution helps us account for any potential biases when analyzing correlations between work types and other variables, such as health outcomes or lifestyle factors."
   ]
  },
  {
   "cell_type": "markdown",
   "id": "7b2fc6c3-dfcd-47d0-b951-bcbae7d1f9f7",
   "metadata": {},
   "source": [
    "### Average Glucose Level Analysis"
   ]
  },
  {
   "cell_type": "code",
   "execution_count": 50,
   "id": "8b858a9e-af08-455a-ae82-d78a529ffb4c",
   "metadata": {},
   "outputs": [
    {
     "name": "stdout",
     "output_type": "stream",
     "text": [
      "\n",
      "Average Glucose Level Distribution:\n",
      "count    5110.000000\n",
      "mean      106.147677\n",
      "std        45.283560\n",
      "min        55.120000\n",
      "25%        77.245000\n",
      "50%        91.885000\n",
      "75%       114.090000\n",
      "max       271.740000\n",
      "Name: avg_glucose_level, dtype: float64\n"
     ]
    },
    {
     "data": {
      "image/png": "[encoded data removed]",
      "text/plain": [
       "<Figure size 640x480 with 1 Axes>"
      ]
     },
     "metadata": {},
     "output_type": "display_data"
    }
   ],
   "source": [
    "print(\"\\nAverage Glucose Level Distribution:\")\n",
    "print(stroke_data['avg_glucose_level'].describe())\n",
    "sns.histplot(stroke_data['avg_glucose_level'], kde=True)\n",
    "plt.title(\"Average Glucose Level Distribution\")\n",
    "plt.show()"
   ]
  },
  {
   "cell_type": "markdown",
   "id": "290bdaa1-5b34-4507-9376-2a93c9c0bddc",
   "metadata": {},
   "source": [
    "The chart and statistics provide an overview of the **distribution of average glucose levels** in the dataset. The **mean glucose level** is approximately **106.15** with a **standard deviation** of **45.29**, indicating some variability among participants. The minimum recorded glucose level is **55.12**, while the maximum reaches **271.74**.\n",
    "\n",
    "The histogram shows that most glucose levels are concentrated between **70 and 140**, with a right-skewed distribution. A secondary peak is observed around **200**, which may indicate a subset of participants with significantly higher glucose levels. The KDE (Kernel Density Estimate) line provides additional insight into the distribution shape, which is useful for identifying trends and outliers. This distribution analysis is essential for understanding variations in glucose levels, which could be relevant when exploring health outcomes or predicting risks related to glucose levels."
   ]
  },
  {
   "cell_type": "markdown",
   "id": "93099618-1652-4b22-976d-4b5e2e4ad72f",
   "metadata": {},
   "source": [
    "### BMI Analysis"
   ]
  },
  {
   "cell_type": "code",
   "execution_count": 54,
   "id": "526990e0-ae74-483f-88e2-dca4734ca6ab",
   "metadata": {},
   "outputs": [
    {
     "name": "stdout",
     "output_type": "stream",
     "text": [
      "\n",
      "BMI Distribution:\n",
      "count    5110.000000\n",
      "mean       28.862035\n",
      "std         7.699562\n",
      "min        10.300000\n",
      "25%        23.800000\n",
      "50%        28.100000\n",
      "75%        32.800000\n",
      "max        97.600000\n",
      "Name: bmi, dtype: float64\n"
     ]
    },
    {
     "data": {
      "image/png": "[encoded data removed]",
      "text/plain": [
       "<Figure size 640x480 with 1 Axes>"
      ]
     },
     "metadata": {},
     "output_type": "display_data"
    }
   ],
   "source": [
    "\n",
    "\n",
    "print(\"\\nBMI Distribution:\")\n",
    "print(stroke_data['bmi'].describe())\n",
    "sns.histplot(stroke_data['bmi'].dropna(), kde=True)\n",
    "plt.title(\"BMI Distribution\")\n",
    "plt.show()"
   ]
  },
  {
   "cell_type": "markdown",
   "id": "40f6ad18-64e5-4a22-ab0e-3aa667609835",
   "metadata": {},
   "source": [
    "The chart and statistics provide insights into the **distribution of BMI (Body Mass Index)** among participants in the dataset. The **mean BMI** is approximately **28.89** with a **standard deviation** of **7.85**, indicating a moderate spread in BMI values. The minimum BMI recorded is **10.3**, while the maximum reaches **97.6**.\n",
    "\n",
    "The histogram shows a right-skewed distribution with the majority of BMI values concentrated between **20 and 40**. The KDE (Kernel Density Estimate) line further illustrates the shape of the distribution, with a peak around **28**, indicating a common BMI range within the dataset. This distribution analysis is useful for identifying BMI trends, which may be relevant when exploring health outcomes or assessing risk factors associated with higher or lower BMI values."
   ]
  },
  {
   "cell_type": "markdown",
   "id": "6021a0aa-4d35-4f10-b83c-25f077a62428",
   "metadata": {},
   "source": [
    "### Smoking Status Analysis"
   ]
  },
  {
   "cell_type": "code",
   "execution_count": 58,
   "id": "e4a84fb8-e802-47ad-a5fc-abe431bfba69",
   "metadata": {},
   "outputs": [
    {
     "name": "stdout",
     "output_type": "stream",
     "text": [
      "\n",
      "Smoking Status Distribution:\n",
      "smoking_status\n",
      "never smoked       37.025440\n",
      "Unknown            30.215264\n",
      "formerly smoked    17.318982\n",
      "smokes             15.440313\n",
      "Name: proportion, dtype: float64\n"
     ]
    },
    {
     "data": {
      "image/png": "[encoded data removed]",
      "text/plain": [
       "<Figure size 640x480 with 1 Axes>"
      ]
     },
     "metadata": {},
     "output_type": "display_data"
    }
   ],
   "source": [
    "\n",
    "print(\"\\nSmoking Status Distribution:\")\n",
    "print(stroke_data['smoking_status'].value_counts(normalize=True) * 100)\n",
    "sns.countplot(y='smoking_status', data=stroke_data)\n",
    "plt.title(\"Smoking Status Distribution\")\n",
    "plt.show()\n"
   ]
  },
  {
   "cell_type": "markdown",
   "id": "cc3f9054-ede3-403a-83e0-d5b1b4aa2215",
   "metadata": {},
   "source": [
    "The chart and statistics provide an overview of the **distribution of smoking status** among participants. The data shows that **37%** of participants have **never smoked**, while **17.3%** are **former smokers** and **15.4%** currently smoke. A notable **30.2%** of the data falls under the **Unknown** category for smoking status.\n",
    "\n",
    "The high proportion of \"Unknown\" values might pose challenges in analyzing smoking-related health outcomes, as it limits the ability to accurately assess the impact of smoking behavior. Among known values, the largest group is those who have never smoked, which could influence trends observed in health analyses. Recognizing this distribution aids in understanding potential biases or gaps related to smoking status in the dataset."
   ]
  },
  {
   "cell_type": "markdown",
   "id": "c482abb4-d855-492e-8b98-012ab48d4212",
   "metadata": {},
   "source": [
    "### Encoding\n"
   ]
  },
  {
   "cell_type": "markdown",
   "id": "b3578db6-db16-45d9-ad82-f9eb621df621",
   "metadata": {},
   "source": [
    "Importing the LabelEncoder from sklearn.preprocessing, allowing us to convert categorical variables into numerical formats for model compatibility and Instantiating the LabelEncoder object to be used for encoding various categorical features within the dataset."
   ]
  },
  {
   "cell_type": "code",
   "execution_count": 63,
   "id": "53ffdb12-bd55-4387-ab78-5d1d9b6fe01b",
   "metadata": {},
   "outputs": [],
   "source": [
    "from sklearn.preprocessing import LabelEncoder\n",
    "\n",
    "# Instantiate the LabelEncoder\n",
    "label_encoder = LabelEncoder()"
   ]
  },
  {
   "cell_type": "markdown",
   "id": "b645040b-e0d6-4173-b663-9580770f3f0c",
   "metadata": {},
   "source": [
    "Applying **binary encoding** to the **gender** column, transforming categorical values (\"Male\", \"Female\") into **numerical representations** (**1 for Male, 0 for Female**). This encoding simplifies gender data for **model processing**."
   ]
  },
  {
   "cell_type": "code",
   "execution_count": 66,
   "id": "4f869195-6571-4ebd-8690-29f46a4517a4",
   "metadata": {},
   "outputs": [
    {
     "name": "stdout",
     "output_type": "stream",
     "text": [
      "   gender  gender_encoded\n",
      "0    Male               1\n",
      "1  Female               0\n",
      "2    Male               1\n",
      "3  Female               0\n",
      "4  Female               0\n"
     ]
    }
   ],
   "source": [
    "stroke_data['gender_encoded'] = label_encoder.fit_transform(stroke_data['gender'])\n",
    "\n",
    "# Display the first few rows to confirm encoding\n",
    "print(stroke_data[['gender', 'gender_encoded']].head())"
   ]
  },
  {
   "cell_type": "markdown",
   "id": "59c58dcd-3567-4f9e-8484-b49b83ef0873",
   "metadata": {},
   "source": [
    "Encoding the **ever_married** column by transforming **categorical values** into **numerical representations**, allowing for easier integration into machine learning models.\n"
   ]
  },
  {
   "cell_type": "code",
   "execution_count": 69,
   "id": "adca6440-4b65-4219-87fc-1407d464813b",
   "metadata": {},
   "outputs": [
    {
     "name": "stdout",
     "output_type": "stream",
     "text": [
      "  ever_married  ever_married_encoded\n",
      "0          Yes                     1\n",
      "1          Yes                     1\n",
      "2          Yes                     1\n",
      "3          Yes                     1\n",
      "4          Yes                     1\n"
     ]
    }
   ],
   "source": [
    "stroke_data['ever_married_encoded'] = label_encoder.fit_transform(stroke_data['ever_married'])\n",
    "\n",
    "# Display the first few rows to confirm encoding\n",
    "print(stroke_data[['ever_married', 'ever_married_encoded']].head())"
   ]
  },
  {
   "cell_type": "markdown",
   "id": "80dd81cd-2bf3-43b7-9fcf-e6ee8726832d",
   "metadata": {},
   "source": [
    "Encoding the **Residence_type** column in a similar manner, converting **categorical residence types** into **numerical values**, which enhances the dataset’s compatibility with various algorithms."
   ]
  },
  {
   "cell_type": "code",
   "execution_count": 72,
   "id": "854a8be3-13ab-428c-be1b-b6287182ad84",
   "metadata": {},
   "outputs": [
    {
     "name": "stdout",
     "output_type": "stream",
     "text": [
      "  Residence_type  Residence_type_encoded\n",
      "0          Urban                       1\n",
      "1          Rural                       0\n",
      "2          Rural                       0\n",
      "3          Urban                       1\n",
      "4          Rural                       0\n"
     ]
    }
   ],
   "source": [
    "stroke_data['Residence_type_encoded'] = label_encoder.fit_transform(stroke_data['Residence_type'])\n",
    "\n",
    "# Display the first few rows to confirm encoding\n",
    "print(stroke_data[['Residence_type', 'Residence_type_encoded']].head())\n"
   ]
  },
  {
   "cell_type": "markdown",
   "id": "ccf1d5ca-55fc-43f6-a32c-d6262e529756",
   "metadata": {},
   "source": [
    "### One-Hot Encoding for Work Type\n",
    "\n",
    "This cell applies one-hot encoding to the `work_type` column, converting categorical values into binary columns for model compatibility. Using `OneHotEncoder` with `drop='first'` to prevent multicollinearity, it encodes each work type, creates a DataFrame with labeled columns, and concatenates it with `stroke_data`. Finally, it displays the first few rows to confirm successful encoding."
   ]
  },
  {
   "cell_type": "code",
   "execution_count": 75,
   "id": "f9e65800-0926-480c-930e-2fd3caa6a6f6",
   "metadata": {},
   "outputs": [
    {
     "data": {
      "text/html": [
       "<div>\n",
       "<style scoped>\n",
       "    .dataframe tbody tr th:only-of-type {\n",
       "        vertical-align: middle;\n",
       "    }\n",
       "\n",
       "    .dataframe tbody tr th {\n",
       "        vertical-align: top;\n",
       "    }\n",
       "\n",
       "    .dataframe thead th {\n",
       "        text-align: right;\n",
       "    }\n",
       "</style>\n",
       "<table border=\"1\" class=\"dataframe\">\n",
       "  <thead>\n",
       "    <tr style=\"text-align: right;\">\n",
       "      <th></th>\n",
       "      <th>id</th>\n",
       "      <th>gender</th>\n",
       "      <th>age</th>\n",
       "      <th>hypertension</th>\n",
       "      <th>heart_disease</th>\n",
       "      <th>ever_married</th>\n",
       "      <th>work_type</th>\n",
       "      <th>Residence_type</th>\n",
       "      <th>avg_glucose_level</th>\n",
       "      <th>bmi</th>\n",
       "      <th>smoking_status</th>\n",
       "      <th>stroke</th>\n",
       "      <th>gender_encoded</th>\n",
       "      <th>ever_married_encoded</th>\n",
       "      <th>Residence_type_encoded</th>\n",
       "      <th>work_type_Never_worked</th>\n",
       "      <th>work_type_Private</th>\n",
       "      <th>work_type_Self-employed</th>\n",
       "      <th>work_type_children</th>\n",
       "    </tr>\n",
       "  </thead>\n",
       "  <tbody>\n",
       "    <tr>\n",
       "      <th>0</th>\n",
       "      <td>9046</td>\n",
       "      <td>Male</td>\n",
       "      <td>67.0</td>\n",
       "      <td>0</td>\n",
       "      <td>1</td>\n",
       "      <td>Yes</td>\n",
       "      <td>Private</td>\n",
       "      <td>Urban</td>\n",
       "      <td>228.69</td>\n",
       "      <td>36.6</td>\n",
       "      <td>formerly smoked</td>\n",
       "      <td>1</td>\n",
       "      <td>1</td>\n",
       "      <td>1</td>\n",
       "      <td>1</td>\n",
       "      <td>0.0</td>\n",
       "      <td>1.0</td>\n",
       "      <td>0.0</td>\n",
       "      <td>0.0</td>\n",
       "    </tr>\n",
       "    <tr>\n",
       "      <th>1</th>\n",
       "      <td>51676</td>\n",
       "      <td>Female</td>\n",
       "      <td>61.0</td>\n",
       "      <td>0</td>\n",
       "      <td>0</td>\n",
       "      <td>Yes</td>\n",
       "      <td>Self-employed</td>\n",
       "      <td>Rural</td>\n",
       "      <td>202.21</td>\n",
       "      <td>28.1</td>\n",
       "      <td>never smoked</td>\n",
       "      <td>1</td>\n",
       "      <td>0</td>\n",
       "      <td>1</td>\n",
       "      <td>0</td>\n",
       "      <td>0.0</td>\n",
       "      <td>0.0</td>\n",
       "      <td>1.0</td>\n",
       "      <td>0.0</td>\n",
       "    </tr>\n",
       "    <tr>\n",
       "      <th>2</th>\n",
       "      <td>31112</td>\n",
       "      <td>Male</td>\n",
       "      <td>80.0</td>\n",
       "      <td>0</td>\n",
       "      <td>1</td>\n",
       "      <td>Yes</td>\n",
       "      <td>Private</td>\n",
       "      <td>Rural</td>\n",
       "      <td>105.92</td>\n",
       "      <td>32.5</td>\n",
       "      <td>never smoked</td>\n",
       "      <td>1</td>\n",
       "      <td>1</td>\n",
       "      <td>1</td>\n",
       "      <td>0</td>\n",
       "      <td>0.0</td>\n",
       "      <td>1.0</td>\n",
       "      <td>0.0</td>\n",
       "      <td>0.0</td>\n",
       "    </tr>\n",
       "    <tr>\n",
       "      <th>3</th>\n",
       "      <td>60182</td>\n",
       "      <td>Female</td>\n",
       "      <td>49.0</td>\n",
       "      <td>0</td>\n",
       "      <td>0</td>\n",
       "      <td>Yes</td>\n",
       "      <td>Private</td>\n",
       "      <td>Urban</td>\n",
       "      <td>171.23</td>\n",
       "      <td>34.4</td>\n",
       "      <td>smokes</td>\n",
       "      <td>1</td>\n",
       "      <td>0</td>\n",
       "      <td>1</td>\n",
       "      <td>1</td>\n",
       "      <td>0.0</td>\n",
       "      <td>1.0</td>\n",
       "      <td>0.0</td>\n",
       "      <td>0.0</td>\n",
       "    </tr>\n",
       "    <tr>\n",
       "      <th>4</th>\n",
       "      <td>1665</td>\n",
       "      <td>Female</td>\n",
       "      <td>79.0</td>\n",
       "      <td>1</td>\n",
       "      <td>0</td>\n",
       "      <td>Yes</td>\n",
       "      <td>Self-employed</td>\n",
       "      <td>Rural</td>\n",
       "      <td>174.12</td>\n",
       "      <td>24.0</td>\n",
       "      <td>never smoked</td>\n",
       "      <td>1</td>\n",
       "      <td>0</td>\n",
       "      <td>1</td>\n",
       "      <td>0</td>\n",
       "      <td>0.0</td>\n",
       "      <td>0.0</td>\n",
       "      <td>1.0</td>\n",
       "      <td>0.0</td>\n",
       "    </tr>\n",
       "  </tbody>\n",
       "</table>\n",
       "</div>"
      ],
      "text/plain": [
       "      id  gender   age  hypertension  heart_disease ever_married  \\\n",
       "0   9046    Male  67.0             0              1          Yes   \n",
       "1  51676  Female  61.0             0              0          Yes   \n",
       "2  31112    Male  80.0             0              1          Yes   \n",
       "3  60182  Female  49.0             0              0          Yes   \n",
       "4   1665  Female  79.0             1              0          Yes   \n",
       "\n",
       "       work_type Residence_type  avg_glucose_level   bmi   smoking_status  \\\n",
       "0        Private          Urban             228.69  36.6  formerly smoked   \n",
       "1  Self-employed          Rural             202.21  28.1     never smoked   \n",
       "2        Private          Rural             105.92  32.5     never smoked   \n",
       "3        Private          Urban             171.23  34.4           smokes   \n",
       "4  Self-employed          Rural             174.12  24.0     never smoked   \n",
       "\n",
       "   stroke  gender_encoded  ever_married_encoded  Residence_type_encoded  \\\n",
       "0       1               1                     1                       1   \n",
       "1       1               0                     1                       0   \n",
       "2       1               1                     1                       0   \n",
       "3       1               0                     1                       1   \n",
       "4       1               0                     1                       0   \n",
       "\n",
       "   work_type_Never_worked  work_type_Private  work_type_Self-employed  \\\n",
       "0                     0.0                1.0                      0.0   \n",
       "1                     0.0                0.0                      1.0   \n",
       "2                     0.0                1.0                      0.0   \n",
       "3                     0.0                1.0                      0.0   \n",
       "4                     0.0                0.0                      1.0   \n",
       "\n",
       "   work_type_children  \n",
       "0                 0.0  \n",
       "1                 0.0  \n",
       "2                 0.0  \n",
       "3                 0.0  \n",
       "4                 0.0  "
      ]
     },
     "execution_count": 75,
     "metadata": {},
     "output_type": "execute_result"
    }
   ],
   "source": [
    "from sklearn.preprocessing import OneHotEncoder\n",
    "\n",
    "# Instantiate the OneHotEncoder\n",
    "one_hot_encoder = OneHotEncoder(sparse_output=False, drop='first')\n",
    "\n",
    "# Perform one-hot encoding on the 'work_type' column\n",
    "work_type_encoded = one_hot_encoder.fit_transform(stroke_data[['work_type']])\n",
    "\n",
    "# Convert the encoded result to a DataFrame with appropriate column names\n",
    "work_type_encoded_df = pd.DataFrame(work_type_encoded, columns=one_hot_encoder.get_feature_names_out(['work_type']))\n",
    "\n",
    "# Concatenate the original dataframe with the one-hot encoded DataFrame\n",
    "stroke_data = pd.concat([stroke_data, work_type_encoded_df], axis=1)\n",
    "\n",
    "# Display the first few rows to confirm encoding\n",
    "stroke_data.head()\n"
   ]
  },
  {
   "cell_type": "markdown",
   "id": "1f072298-c3f4-4a76-ace1-7e9ecadfe724",
   "metadata": {},
   "source": [
    "### One-Hot Encoding for Smoking Status\n",
    "\n",
    "This code performs one-hot encoding on the `smoking_status` column, converting categorical values into binary columns for better compatibility with machine learning models. The `OneHotEncoder` is initialized with `drop='first'` to avoid multicollinearity and `sparse_output=False` for a dense output format. The `fit_transform` method encodes each smoking status category, and the encoded data is converted into a DataFrame with labeled columns. This encoded DataFrame is then concatenated with the original `stroke_data` DataFrame. Finally, the first few rows are displayed to confirm that the encoding was successful."
   ]
  },
  {
   "cell_type": "code",
   "execution_count": 78,
   "id": "87a26a7b-a9c5-47da-965a-66e19a6d5475",
   "metadata": {},
   "outputs": [
    {
     "data": {
      "text/html": [
       "<div>\n",
       "<style scoped>\n",
       "    .dataframe tbody tr th:only-of-type {\n",
       "        vertical-align: middle;\n",
       "    }\n",
       "\n",
       "    .dataframe tbody tr th {\n",
       "        vertical-align: top;\n",
       "    }\n",
       "\n",
       "    .dataframe thead th {\n",
       "        text-align: right;\n",
       "    }\n",
       "</style>\n",
       "<table border=\"1\" class=\"dataframe\">\n",
       "  <thead>\n",
       "    <tr style=\"text-align: right;\">\n",
       "      <th></th>\n",
       "      <th>id</th>\n",
       "      <th>gender</th>\n",
       "      <th>age</th>\n",
       "      <th>hypertension</th>\n",
       "      <th>heart_disease</th>\n",
       "      <th>ever_married</th>\n",
       "      <th>work_type</th>\n",
       "      <th>Residence_type</th>\n",
       "      <th>avg_glucose_level</th>\n",
       "      <th>bmi</th>\n",
       "      <th>...</th>\n",
       "      <th>gender_encoded</th>\n",
       "      <th>ever_married_encoded</th>\n",
       "      <th>Residence_type_encoded</th>\n",
       "      <th>work_type_Never_worked</th>\n",
       "      <th>work_type_Private</th>\n",
       "      <th>work_type_Self-employed</th>\n",
       "      <th>work_type_children</th>\n",
       "      <th>smoking_status_formerly smoked</th>\n",
       "      <th>smoking_status_never smoked</th>\n",
       "      <th>smoking_status_smokes</th>\n",
       "    </tr>\n",
       "  </thead>\n",
       "  <tbody>\n",
       "    <tr>\n",
       "      <th>0</th>\n",
       "      <td>9046</td>\n",
       "      <td>Male</td>\n",
       "      <td>67.0</td>\n",
       "      <td>0</td>\n",
       "      <td>1</td>\n",
       "      <td>Yes</td>\n",
       "      <td>Private</td>\n",
       "      <td>Urban</td>\n",
       "      <td>228.69</td>\n",
       "      <td>36.6</td>\n",
       "      <td>...</td>\n",
       "      <td>1</td>\n",
       "      <td>1</td>\n",
       "      <td>1</td>\n",
       "      <td>0.0</td>\n",
       "      <td>1.0</td>\n",
       "      <td>0.0</td>\n",
       "      <td>0.0</td>\n",
       "      <td>1.0</td>\n",
       "      <td>0.0</td>\n",
       "      <td>0.0</td>\n",
       "    </tr>\n",
       "    <tr>\n",
       "      <th>1</th>\n",
       "      <td>51676</td>\n",
       "      <td>Female</td>\n",
       "      <td>61.0</td>\n",
       "      <td>0</td>\n",
       "      <td>0</td>\n",
       "      <td>Yes</td>\n",
       "      <td>Self-employed</td>\n",
       "      <td>Rural</td>\n",
       "      <td>202.21</td>\n",
       "      <td>28.1</td>\n",
       "      <td>...</td>\n",
       "      <td>0</td>\n",
       "      <td>1</td>\n",
       "      <td>0</td>\n",
       "      <td>0.0</td>\n",
       "      <td>0.0</td>\n",
       "      <td>1.0</td>\n",
       "      <td>0.0</td>\n",
       "      <td>0.0</td>\n",
       "      <td>1.0</td>\n",
       "      <td>0.0</td>\n",
       "    </tr>\n",
       "    <tr>\n",
       "      <th>2</th>\n",
       "      <td>31112</td>\n",
       "      <td>Male</td>\n",
       "      <td>80.0</td>\n",
       "      <td>0</td>\n",
       "      <td>1</td>\n",
       "      <td>Yes</td>\n",
       "      <td>Private</td>\n",
       "      <td>Rural</td>\n",
       "      <td>105.92</td>\n",
       "      <td>32.5</td>\n",
       "      <td>...</td>\n",
       "      <td>1</td>\n",
       "      <td>1</td>\n",
       "      <td>0</td>\n",
       "      <td>0.0</td>\n",
       "      <td>1.0</td>\n",
       "      <td>0.0</td>\n",
       "      <td>0.0</td>\n",
       "      <td>0.0</td>\n",
       "      <td>1.0</td>\n",
       "      <td>0.0</td>\n",
       "    </tr>\n",
       "    <tr>\n",
       "      <th>3</th>\n",
       "      <td>60182</td>\n",
       "      <td>Female</td>\n",
       "      <td>49.0</td>\n",
       "      <td>0</td>\n",
       "      <td>0</td>\n",
       "      <td>Yes</td>\n",
       "      <td>Private</td>\n",
       "      <td>Urban</td>\n",
       "      <td>171.23</td>\n",
       "      <td>34.4</td>\n",
       "      <td>...</td>\n",
       "      <td>0</td>\n",
       "      <td>1</td>\n",
       "      <td>1</td>\n",
       "      <td>0.0</td>\n",
       "      <td>1.0</td>\n",
       "      <td>0.0</td>\n",
       "      <td>0.0</td>\n",
       "      <td>0.0</td>\n",
       "      <td>0.0</td>\n",
       "      <td>1.0</td>\n",
       "    </tr>\n",
       "    <tr>\n",
       "      <th>4</th>\n",
       "      <td>1665</td>\n",
       "      <td>Female</td>\n",
       "      <td>79.0</td>\n",
       "      <td>1</td>\n",
       "      <td>0</td>\n",
       "      <td>Yes</td>\n",
       "      <td>Self-employed</td>\n",
       "      <td>Rural</td>\n",
       "      <td>174.12</td>\n",
       "      <td>24.0</td>\n",
       "      <td>...</td>\n",
       "      <td>0</td>\n",
       "      <td>1</td>\n",
       "      <td>0</td>\n",
       "      <td>0.0</td>\n",
       "      <td>0.0</td>\n",
       "      <td>1.0</td>\n",
       "      <td>0.0</td>\n",
       "      <td>0.0</td>\n",
       "      <td>1.0</td>\n",
       "      <td>0.0</td>\n",
       "    </tr>\n",
       "  </tbody>\n",
       "</table>\n",
       "<p>5 rows × 22 columns</p>\n",
       "</div>"
      ],
      "text/plain": [
       "      id  gender   age  hypertension  heart_disease ever_married  \\\n",
       "0   9046    Male  67.0             0              1          Yes   \n",
       "1  51676  Female  61.0             0              0          Yes   \n",
       "2  31112    Male  80.0             0              1          Yes   \n",
       "3  60182  Female  49.0             0              0          Yes   \n",
       "4   1665  Female  79.0             1              0          Yes   \n",
       "\n",
       "       work_type Residence_type  avg_glucose_level   bmi  ... gender_encoded  \\\n",
       "0        Private          Urban             228.69  36.6  ...              1   \n",
       "1  Self-employed          Rural             202.21  28.1  ...              0   \n",
       "2        Private          Rural             105.92  32.5  ...              1   \n",
       "3        Private          Urban             171.23  34.4  ...              0   \n",
       "4  Self-employed          Rural             174.12  24.0  ...              0   \n",
       "\n",
       "   ever_married_encoded  Residence_type_encoded  work_type_Never_worked  \\\n",
       "0                     1                       1                     0.0   \n",
       "1                     1                       0                     0.0   \n",
       "2                     1                       0                     0.0   \n",
       "3                     1                       1                     0.0   \n",
       "4                     1                       0                     0.0   \n",
       "\n",
       "   work_type_Private  work_type_Self-employed  work_type_children  \\\n",
       "0                1.0                      0.0                 0.0   \n",
       "1                0.0                      1.0                 0.0   \n",
       "2                1.0                      0.0                 0.0   \n",
       "3                1.0                      0.0                 0.0   \n",
       "4                0.0                      1.0                 0.0   \n",
       "\n",
       "   smoking_status_formerly smoked  smoking_status_never smoked  \\\n",
       "0                             1.0                          0.0   \n",
       "1                             0.0                          1.0   \n",
       "2                             0.0                          1.0   \n",
       "3                             0.0                          0.0   \n",
       "4                             0.0                          1.0   \n",
       "\n",
       "   smoking_status_smokes  \n",
       "0                    0.0  \n",
       "1                    0.0  \n",
       "2                    0.0  \n",
       "3                    1.0  \n",
       "4                    0.0  \n",
       "\n",
       "[5 rows x 22 columns]"
      ]
     },
     "execution_count": 78,
     "metadata": {},
     "output_type": "execute_result"
    }
   ],
   "source": [
    "from sklearn.preprocessing import OneHotEncoder\n",
    "\n",
    "# Instantiate the OneHotEncoder\n",
    "one_hot_encoder = OneHotEncoder(sparse_output=False, drop='first')\n",
    "\n",
    "# Perform one-hot encoding on the 'smoking_status' column\n",
    "smoking_status_encoded = one_hot_encoder.fit_transform(stroke_data[['smoking_status']])\n",
    "\n",
    "# Convert the encoded result to a DataFrame with appropriate column names\n",
    "smoking_status_encoded_df = pd.DataFrame(smoking_status_encoded, columns=one_hot_encoder.get_feature_names_out(['smoking_status']))\n",
    "\n",
    "# Concatenate the original dataframe with the one-hot encoded DataFrame\n",
    "stroke_data = pd.concat([stroke_data, smoking_status_encoded_df], axis=1)\n",
    "\n",
    "# Display the first few rows to confirm encoding\n",
    "stroke_data.head()\n"
   ]
  },
  {
   "cell_type": "markdown",
   "id": "2dc8ead9-e084-4637-8fc2-5fa5d54a372b",
   "metadata": {},
   "source": [
    "### Standardization of Numeric Features\n",
    "\n",
    "This code standardizes the `bmi`, `age`, and `avg_glucose_level` columns to improve model performance and ensure consistent feature scaling. The `StandardScaler` from `sklearn.preprocessing` is initialized to perform standardization, which scales features to have a mean of 0 and a standard deviation of 1. The selected columns are transformed with `fit_transform`, replacing the original values with standardized ones. Finally, the first few rows are displayed to verify that the standardization was applied successfully."
   ]
  },
  {
   "cell_type": "code",
   "execution_count": 81,
   "id": "76cb16f1-c7d2-4b45-b752-39c16586f4af",
   "metadata": {},
   "outputs": [
    {
     "data": {
      "text/html": [
       "<div>\n",
       "<style scoped>\n",
       "    .dataframe tbody tr th:only-of-type {\n",
       "        vertical-align: middle;\n",
       "    }\n",
       "\n",
       "    .dataframe tbody tr th {\n",
       "        vertical-align: top;\n",
       "    }\n",
       "\n",
       "    .dataframe thead th {\n",
       "        text-align: right;\n",
       "    }\n",
       "</style>\n",
       "<table border=\"1\" class=\"dataframe\">\n",
       "  <thead>\n",
       "    <tr style=\"text-align: right;\">\n",
       "      <th></th>\n",
       "      <th>bmi</th>\n",
       "      <th>age</th>\n",
       "      <th>avg_glucose_level</th>\n",
       "    </tr>\n",
       "  </thead>\n",
       "  <tbody>\n",
       "    <tr>\n",
       "      <th>0</th>\n",
       "      <td>1.005086</td>\n",
       "      <td>1.051434</td>\n",
       "      <td>2.706375</td>\n",
       "    </tr>\n",
       "    <tr>\n",
       "      <th>1</th>\n",
       "      <td>-0.098981</td>\n",
       "      <td>0.786070</td>\n",
       "      <td>2.121559</td>\n",
       "    </tr>\n",
       "    <tr>\n",
       "      <th>2</th>\n",
       "      <td>0.472536</td>\n",
       "      <td>1.626390</td>\n",
       "      <td>-0.005028</td>\n",
       "    </tr>\n",
       "    <tr>\n",
       "      <th>3</th>\n",
       "      <td>0.719327</td>\n",
       "      <td>0.255342</td>\n",
       "      <td>1.437358</td>\n",
       "    </tr>\n",
       "    <tr>\n",
       "      <th>4</th>\n",
       "      <td>-0.631531</td>\n",
       "      <td>1.582163</td>\n",
       "      <td>1.501184</td>\n",
       "    </tr>\n",
       "  </tbody>\n",
       "</table>\n",
       "</div>"
      ],
      "text/plain": [
       "        bmi       age  avg_glucose_level\n",
       "0  1.005086  1.051434           2.706375\n",
       "1 -0.098981  0.786070           2.121559\n",
       "2  0.472536  1.626390          -0.005028\n",
       "3  0.719327  0.255342           1.437358\n",
       "4 -0.631531  1.582163           1.501184"
      ]
     },
     "execution_count": 81,
     "metadata": {},
     "output_type": "execute_result"
    }
   ],
   "source": [
    "from sklearn.preprocessing import StandardScaler\n",
    "\n",
    "# Instantiate the StandardScaler\n",
    "scaler = StandardScaler()\n",
    "\n",
    "# Select columns to be standardized\n",
    "columns_to_standardize = ['bmi', 'age', 'avg_glucose_level']\n",
    "\n",
    "# Apply standardization and replace the original columns with standardized values\n",
    "stroke_data[columns_to_standardize] = scaler.fit_transform(stroke_data[columns_to_standardize])\n",
    "\n",
    "# Display the first few rows to confirm standardization\n",
    "stroke_data[columns_to_standardize].head()\n"
   ]
  },
  {
   "cell_type": "code",
   "execution_count": 85,
   "id": "e0089c52-89df-4163-822e-db29dbed3644",
   "metadata": {},
   "outputs": [
    {
     "data": {
      "text/html": [
       "<div>\n",
       "<style scoped>\n",
       "    .dataframe tbody tr th:only-of-type {\n",
       "        vertical-align: middle;\n",
       "    }\n",
       "\n",
       "    .dataframe tbody tr th {\n",
       "        vertical-align: top;\n",
       "    }\n",
       "\n",
       "    .dataframe thead th {\n",
       "        text-align: right;\n",
       "    }\n",
       "</style>\n",
       "<table border=\"1\" class=\"dataframe\">\n",
       "  <thead>\n",
       "    <tr style=\"text-align: right;\">\n",
       "      <th></th>\n",
       "      <th>id</th>\n",
       "      <th>gender</th>\n",
       "      <th>age</th>\n",
       "      <th>hypertension</th>\n",
       "      <th>heart_disease</th>\n",
       "      <th>ever_married</th>\n",
       "      <th>work_type</th>\n",
       "      <th>Residence_type</th>\n",
       "      <th>avg_glucose_level</th>\n",
       "      <th>bmi</th>\n",
       "      <th>...</th>\n",
       "      <th>gender_encoded</th>\n",
       "      <th>ever_married_encoded</th>\n",
       "      <th>Residence_type_encoded</th>\n",
       "      <th>work_type_Never_worked</th>\n",
       "      <th>work_type_Private</th>\n",
       "      <th>work_type_Self-employed</th>\n",
       "      <th>work_type_children</th>\n",
       "      <th>smoking_status_formerly smoked</th>\n",
       "      <th>smoking_status_never smoked</th>\n",
       "      <th>smoking_status_smokes</th>\n",
       "    </tr>\n",
       "  </thead>\n",
       "  <tbody>\n",
       "    <tr>\n",
       "      <th>0</th>\n",
       "      <td>9046</td>\n",
       "      <td>Male</td>\n",
       "      <td>1.051434</td>\n",
       "      <td>0</td>\n",
       "      <td>1</td>\n",
       "      <td>Yes</td>\n",
       "      <td>Private</td>\n",
       "      <td>Urban</td>\n",
       "      <td>2.706375</td>\n",
       "      <td>1.005086</td>\n",
       "      <td>...</td>\n",
       "      <td>1</td>\n",
       "      <td>1</td>\n",
       "      <td>1</td>\n",
       "      <td>0.0</td>\n",
       "      <td>1.0</td>\n",
       "      <td>0.0</td>\n",
       "      <td>0.0</td>\n",
       "      <td>1.0</td>\n",
       "      <td>0.0</td>\n",
       "      <td>0.0</td>\n",
       "    </tr>\n",
       "    <tr>\n",
       "      <th>1</th>\n",
       "      <td>51676</td>\n",
       "      <td>Female</td>\n",
       "      <td>0.786070</td>\n",
       "      <td>0</td>\n",
       "      <td>0</td>\n",
       "      <td>Yes</td>\n",
       "      <td>Self-employed</td>\n",
       "      <td>Rural</td>\n",
       "      <td>2.121559</td>\n",
       "      <td>-0.098981</td>\n",
       "      <td>...</td>\n",
       "      <td>0</td>\n",
       "      <td>1</td>\n",
       "      <td>0</td>\n",
       "      <td>0.0</td>\n",
       "      <td>0.0</td>\n",
       "      <td>1.0</td>\n",
       "      <td>0.0</td>\n",
       "      <td>0.0</td>\n",
       "      <td>1.0</td>\n",
       "      <td>0.0</td>\n",
       "    </tr>\n",
       "    <tr>\n",
       "      <th>2</th>\n",
       "      <td>31112</td>\n",
       "      <td>Male</td>\n",
       "      <td>1.626390</td>\n",
       "      <td>0</td>\n",
       "      <td>1</td>\n",
       "      <td>Yes</td>\n",
       "      <td>Private</td>\n",
       "      <td>Rural</td>\n",
       "      <td>-0.005028</td>\n",
       "      <td>0.472536</td>\n",
       "      <td>...</td>\n",
       "      <td>1</td>\n",
       "      <td>1</td>\n",
       "      <td>0</td>\n",
       "      <td>0.0</td>\n",
       "      <td>1.0</td>\n",
       "      <td>0.0</td>\n",
       "      <td>0.0</td>\n",
       "      <td>0.0</td>\n",
       "      <td>1.0</td>\n",
       "      <td>0.0</td>\n",
       "    </tr>\n",
       "    <tr>\n",
       "      <th>3</th>\n",
       "      <td>60182</td>\n",
       "      <td>Female</td>\n",
       "      <td>0.255342</td>\n",
       "      <td>0</td>\n",
       "      <td>0</td>\n",
       "      <td>Yes</td>\n",
       "      <td>Private</td>\n",
       "      <td>Urban</td>\n",
       "      <td>1.437358</td>\n",
       "      <td>0.719327</td>\n",
       "      <td>...</td>\n",
       "      <td>0</td>\n",
       "      <td>1</td>\n",
       "      <td>1</td>\n",
       "      <td>0.0</td>\n",
       "      <td>1.0</td>\n",
       "      <td>0.0</td>\n",
       "      <td>0.0</td>\n",
       "      <td>0.0</td>\n",
       "      <td>0.0</td>\n",
       "      <td>1.0</td>\n",
       "    </tr>\n",
       "    <tr>\n",
       "      <th>4</th>\n",
       "      <td>1665</td>\n",
       "      <td>Female</td>\n",
       "      <td>1.582163</td>\n",
       "      <td>1</td>\n",
       "      <td>0</td>\n",
       "      <td>Yes</td>\n",
       "      <td>Self-employed</td>\n",
       "      <td>Rural</td>\n",
       "      <td>1.501184</td>\n",
       "      <td>-0.631531</td>\n",
       "      <td>...</td>\n",
       "      <td>0</td>\n",
       "      <td>1</td>\n",
       "      <td>0</td>\n",
       "      <td>0.0</td>\n",
       "      <td>0.0</td>\n",
       "      <td>1.0</td>\n",
       "      <td>0.0</td>\n",
       "      <td>0.0</td>\n",
       "      <td>1.0</td>\n",
       "      <td>0.0</td>\n",
       "    </tr>\n",
       "  </tbody>\n",
       "</table>\n",
       "<p>5 rows × 22 columns</p>\n",
       "</div>"
      ],
      "text/plain": [
       "      id  gender       age  hypertension  heart_disease ever_married  \\\n",
       "0   9046    Male  1.051434             0              1          Yes   \n",
       "1  51676  Female  0.786070             0              0          Yes   \n",
       "2  31112    Male  1.626390             0              1          Yes   \n",
       "3  60182  Female  0.255342             0              0          Yes   \n",
       "4   1665  Female  1.582163             1              0          Yes   \n",
       "\n",
       "       work_type Residence_type  avg_glucose_level       bmi  ...  \\\n",
       "0        Private          Urban           2.706375  1.005086  ...   \n",
       "1  Self-employed          Rural           2.121559 -0.098981  ...   \n",
       "2        Private          Rural          -0.005028  0.472536  ...   \n",
       "3        Private          Urban           1.437358  0.719327  ...   \n",
       "4  Self-employed          Rural           1.501184 -0.631531  ...   \n",
       "\n",
       "  gender_encoded  ever_married_encoded  Residence_type_encoded  \\\n",
       "0              1                     1                       1   \n",
       "1              0                     1                       0   \n",
       "2              1                     1                       0   \n",
       "3              0                     1                       1   \n",
       "4              0                     1                       0   \n",
       "\n",
       "   work_type_Never_worked  work_type_Private  work_type_Self-employed  \\\n",
       "0                     0.0                1.0                      0.0   \n",
       "1                     0.0                0.0                      1.0   \n",
       "2                     0.0                1.0                      0.0   \n",
       "3                     0.0                1.0                      0.0   \n",
       "4                     0.0                0.0                      1.0   \n",
       "\n",
       "   work_type_children  smoking_status_formerly smoked  \\\n",
       "0                 0.0                             1.0   \n",
       "1                 0.0                             0.0   \n",
       "2                 0.0                             0.0   \n",
       "3                 0.0                             0.0   \n",
       "4                 0.0                             0.0   \n",
       "\n",
       "   smoking_status_never smoked  smoking_status_smokes  \n",
       "0                          0.0                    0.0  \n",
       "1                          1.0                    0.0  \n",
       "2                          1.0                    0.0  \n",
       "3                          0.0                    1.0  \n",
       "4                          1.0                    0.0  \n",
       "\n",
       "[5 rows x 22 columns]"
      ]
     },
     "execution_count": 85,
     "metadata": {},
     "output_type": "execute_result"
    }
   ],
   "source": [
    "stroke_data.head()"
   ]
  },
  {
   "cell_type": "markdown",
   "id": "15f6e479-363c-4091-8d8a-55918f334a4d",
   "metadata": {},
   "source": [
    "Dropping the **`ever_married`**, **`work_type`**, **`Residence_type`**, **`gender`**, and **`smoking_status`** columns from the dataset as they are not relevant for the prediction. Removing these columns reduces dimensionality, simplifies the dataset, and ensures the model focuses only on features directly impacting the prediction target."
   ]
  },
  {
   "cell_type": "code",
   "execution_count": 88,
   "id": "145dade1-1981-46e3-b384-d8fc54e804ed",
   "metadata": {},
   "outputs": [],
   "source": [
    "stroke_data = stroke_data.drop(['ever_married','work_type','Residence_type','gender','smoking_status'],axis=1)"
   ]
  },
  {
   "cell_type": "markdown",
   "id": "f59cbfe7-21f0-4fac-b15f-2de249ba908c",
   "metadata": {},
   "source": [
    "### Correlation Matrix of Selected Columns\n",
    "\n",
    "This code generates a **correlation matrix** for selected columns (`age`, `hypertension`, `heart_disease`, `avg_glucose_level`, `bmi`, `stroke`, `gender_encoded`) to analyze relationships between variables in the dataset. By filtering the DataFrame to include only these relevant columns, a correlation matrix is computed and visualized using a heatmap. The heatmap displays the strength and direction of relationships between variables, with color intensity indicating the degree of correlation.\n",
    "\n"
   ]
  },
  {
   "cell_type": "code",
   "execution_count": 91,
   "id": "9580bc6f-6fcd-4972-bc98-2f71544f48a4",
   "metadata": {},
   "outputs": [
    {
     "data": {
      "image/png": "[encoded data removed]",
      "text/plain": [
       "<Figure size 1000x800 with 2 Axes>"
      ]
     },
     "metadata": {},
     "output_type": "display_data"
    }
   ],
   "source": [
    "selected_columns = [\n",
    "    'age', 'hypertension', 'heart_disease', 'avg_glucose_level', 'bmi', \n",
    "    'stroke', 'gender_encoded'\n",
    "    \n",
    "]\n",
    "\n",
    "# Filter the DataFrame to include only the selected columns\n",
    "filtered_df = stroke_data[selected_columns]\n",
    "\n",
    "# Compute the correlation matrix\n",
    "correlation_matrix = filtered_df.corr()\n",
    "\n",
    "# Plot the correlation matrix\n",
    "plt.figure(figsize=(10, 8))\n",
    "sns.heatmap(correlation_matrix, annot=True, cmap='coolwarm', fmt=\".2f\", vmin=-1, vmax=1)\n",
    "plt.title(\"Correlation Matrix of Selected Columns\")\n",
    "plt.show()\n"
   ]
  },
  {
   "cell_type": "markdown",
   "id": "ecd89a2e-a8c5-44ba-9fd2-ccc8469e740e",
   "metadata": {},
   "source": [
    "The correlation matrix reveals several insights:\n",
    "- **Age** shows a moderate positive correlation with **hypertension** (0.28) and **bmi** (0.32), suggesting that older participants are more likely to have higher BMI and hypertension.\n",
    "- **Stroke** has low correlations with other variables, which may indicate that it is influenced by a combination of factors rather than any single variable.\n",
    "- The relatively low correlations across most variables suggest that each feature contributes unique information to the dataset, providing diverse insights for prediction."
   ]
  },
  {
   "cell_type": "markdown",
   "id": "8a45ebb7-4c51-4e3a-b86f-fb44c6d71b96",
   "metadata": {},
   "source": [
    "### Train-Test Split\n",
    "\n",
    "This code splits the dataset into training and testing sets to prepare for model training and evaluation. Using `train_test_split` from `sklearn.model_selection`, the dataset is divided into feature columns (`X`) and the target column (`y`, which is `stroke`). The split is set to 80% training and 20% testing, ensuring a reliable model evaluation. The `random_state=42` parameter provides reproducibility, and `stratify=y` maintains the distribution of the target variable across both sets. The shapes of the resulting training and testing sets are displayed to confirm the split proportions.\n"
   ]
  },
  {
   "cell_type": "code",
   "execution_count": 95,
   "id": "36c45dfc-26c9-4e95-b691-b7757a81ddea",
   "metadata": {},
   "outputs": [
    {
     "name": "stdout",
     "output_type": "stream",
     "text": [
      "Training set shape: (4088, 16), (4088,)\n",
      "Testing set shape: (1022, 16), (1022,)\n"
     ]
    }
   ],
   "source": [
    "from sklearn.model_selection import train_test_split\n",
    "\n",
    "# Define the feature columns (excluding the target column 'stroke') and target column\n",
    "X = stroke_data.drop(columns=['stroke'])  # Drop 'id' as well if it's not a feature\n",
    "y = stroke_data['stroke']\n",
    "\n",
    "# Split the data into training and testing sets (e.g., 80% train, 20% test)\n",
    "X_train, X_test, y_train, y_test = train_test_split(X, y, test_size=0.2, random_state=42, stratify=y)\n",
    "\n",
    "# Display the shape of the training and testing sets\n",
    "print(f\"Training set shape: {X_train.shape}, {y_train.shape}\")\n",
    "print(f\"Testing set shape: {X_test.shape}, {y_test.shape}\")\n"
   ]
  },
  {
   "cell_type": "markdown",
   "id": "fa98dd25-08c8-4f27-8bb5-be9b273dd66a",
   "metadata": {},
   "source": [
    "The output confirms that the training set contains 4,088 samples and the testing set has 1,022 samples, with 15 feature columns in each set. This balanced split ensures sufficient data for both training the model and evaluating its performance."
   ]
  },
  {
   "cell_type": "markdown",
   "id": "220a3581-e1e4-46d1-b002-9b46d6a0c189",
   "metadata": {},
   "source": [
    "# Models\n"
   ]
  },
  {
   "cell_type": "markdown",
   "id": "4d788b9a-663f-4640-8a46-6584e632548a",
   "metadata": {},
   "source": [
    "### Decision Tree Classification\n",
    "\n",
    "This code trains and evaluates a **Decision Tree Classifier** to predict stroke occurrences. First, the `DecisionTreeClassifier` and performance metrics (`accuracy_score`, `classification_report`, `confusion_matrix`) are imported from `sklearn`. The classifier is instantiated with a `random_state=42` for reproducibility, then trained on the training data (`X_train`, `y_train`). Predictions are made on the test set (`X_test`), and the model’s performance is evaluated using accuracy, a classification report, and a confusion matrix. The results, including precision, recall, f1-score, and the confusion matrix, are displayed for detailed analysis.\n",
    "\n"
   ]
  },
  {
   "cell_type": "code",
   "execution_count": 100,
   "id": "9a7b0609-c8b4-49eb-9a2b-c685e2531076",
   "metadata": {},
   "outputs": [
    {
     "name": "stdout",
     "output_type": "stream",
     "text": [
      "Accuracy: 0.9129\n",
      "Classification Report:\n",
      "              precision    recall  f1-score   support\n",
      "\n",
      "           0       0.96      0.95      0.95       972\n",
      "           1       0.13      0.14      0.14        50\n",
      "\n",
      "    accuracy                           0.91      1022\n",
      "   macro avg       0.54      0.55      0.55      1022\n",
      "weighted avg       0.92      0.91      0.91      1022\n",
      "\n",
      "Confusion Matrix:\n",
      "[[926  46]\n",
      " [ 43   7]]\n"
     ]
    }
   ],
   "source": [
    "from sklearn.tree import DecisionTreeClassifier\n",
    "from sklearn.metrics import accuracy_score, classification_report, confusion_matrix\n",
    "\n",
    "# Instantiate the Decision Tree Classifier\n",
    "dt_classifier = DecisionTreeClassifier(random_state=42)\n",
    "\n",
    "# Train the model on the training set\n",
    "dt_classifier.fit(X_train, y_train)\n",
    "\n",
    "# Predict on the test set\n",
    "y_pred = dt_classifier.predict(X_test)\n",
    "\n",
    "# Evaluate the model\n",
    "accuracy = accuracy_score(y_test, y_pred)\n",
    "classification_rep = classification_report(y_test, y_pred)\n",
    "confusion_mat = confusion_matrix(y_test, y_pred)\n",
    "\n",
    "# Display the results\n",
    "print(f\"Accuracy: {accuracy:.4f}\")\n",
    "print(\"Classification Report:\")\n",
    "print(classification_rep)\n",
    "print(\"Confusion Matrix:\")\n",
    "print(confusion_mat)\n"
   ]
  },
  {
   "cell_type": "markdown",
   "id": "d0a17ce4-cfc6-490c-949a-9ec8a8346cf2",
   "metadata": {},
   "source": [
    "- **Accuracy**: The model achieved an accuracy of **91.29%**, indicating reliable performance in predicting stroke cases.\n",
    "- **Classification Report**: The model shows high precision (0.96) and recall (0.95) for the majority class (no stroke), while the minority class (stroke) has lower metrics due to class imbalance.\n",
    "- **Confusion Matrix**: Out of 1,022 test samples, 972 were correctly classified as no stroke, and 43 were accurately predicted as stroke, with some misclassifications. The model performs well overall, though handling class imbalance may improve minority class prediction."
   ]
  },
  {
   "cell_type": "code",
   "execution_count": 103,
   "id": "3cc38dae-2b0c-4fa0-a560-50ab2e49b2de",
   "metadata": {},
   "outputs": [],
   "source": [
    "import warnings\n",
    "warnings.filterwarnings(\"ignore\", category=RuntimeWarning)\n"
   ]
  },
  {
   "cell_type": "markdown",
   "id": "0c9cda53-ea89-4d4e-b78a-a5ab30cc3d5a",
   "metadata": {},
   "source": [
    "### Decision Tree Classification (Grid Search Tuning)\n",
    "\n",
    "This code performs hyperparameter tuning on the **Decision Tree Classifier** using **GridSearchCV** to find the optimal parameters. A parameter grid is defined, including `max_depth`, `min_samples_split`, `min_samples_leaf`, and `criterion`. After fitting `GridSearchCV` on the training data, the best model is used for predictions and evaluated.\n",
    "\n"
   ]
  },
  {
   "cell_type": "code",
   "execution_count": 106,
   "id": "4e6d45c8-c741-49e4-a8ce-9aff1a712831",
   "metadata": {},
   "outputs": [
    {
     "name": "stdout",
     "output_type": "stream",
     "text": [
      "Tuned Accuracy: 0.9442\n",
      "Tuned Classification Report:\n",
      "              precision    recall  f1-score   support\n",
      "\n",
      "           0       0.95      0.99      0.97       972\n",
      "           1       0.00      0.00      0.00        50\n",
      "\n",
      "    accuracy                           0.94      1022\n",
      "   macro avg       0.48      0.50      0.49      1022\n",
      "weighted avg       0.90      0.94      0.92      1022\n",
      "\n",
      "Tuned Confusion Matrix:\n",
      "[[965   7]\n",
      " [ 50   0]]\n",
      "Best Parameters: {'criterion': 'entropy', 'max_depth': 10, 'min_samples_leaf': 8, 'min_samples_split': 20}\n"
     ]
    }
   ],
   "source": [
    "from sklearn.model_selection import GridSearchCV\n",
    "\n",
    "# Define the parameter grid for tuning\n",
    "param_grid = {\n",
    "    'max_depth': [None, 10, 20, 30, 40, 50],          # Depth of the tree\n",
    "    'min_samples_split': [2, 5, 10, 15, 20],          # Minimum samples required to split an internal node\n",
    "    'min_samples_leaf': [1, 2, 4, 6, 8],              # Minimum samples required at a leaf node\n",
    "    'criterion': ['gini', 'entropy']                  # Splitting criteria\n",
    "}\n",
    "\n",
    "# Initialize the GridSearchCV with cross-validation\n",
    "grid_search = GridSearchCV(estimator=DecisionTreeClassifier(random_state=42),\n",
    "                           param_grid=param_grid,\n",
    "                           cv=5,            # 5-fold cross-validation\n",
    "                           scoring='accuracy',  # Optimization metric\n",
    "                           n_jobs=-1)       # Use all available cores\n",
    "\n",
    "# Fit GridSearchCV to the training data\n",
    "grid_search.fit(X_train, y_train)\n",
    "\n",
    "# Best parameters and estimator from grid search\n",
    "best_params = grid_search.best_params_\n",
    "best_model = grid_search.best_estimator_\n",
    "\n",
    "# Predict on the test set using the best model\n",
    "y_pred_tuned = best_model.predict(X_test)\n",
    "\n",
    "# Evaluate the tuned model\n",
    "accuracy_tuned = accuracy_score(y_test, y_pred_tuned)\n",
    "classification_rep_tuned = classification_report(y_test, y_pred_tuned)\n",
    "confusion_mat_tuned = confusion_matrix(y_test, y_pred_tuned)\n",
    "\n",
    "# Display the tuned model results\n",
    "print(f\"Tuned Accuracy: {accuracy_tuned:.4f}\")\n",
    "print(\"Tuned Classification Report:\")\n",
    "print(classification_rep_tuned)\n",
    "print(\"Tuned Confusion Matrix:\")\n",
    "print(confusion_mat_tuned)\n",
    "print(\"Best Parameters:\", best_params)\n"
   ]
  },
  {
   "cell_type": "markdown",
   "id": "663caec8-6551-43b2-9dd4-2c7f0e10339c",
   "metadata": {},
   "source": [
    "- **Tuned Accuracy**: The model's accuracy improved to **94.42%**, reflecting the benefit of parameter optimization.\n",
    "- **Tuned Classification Report**: Precision, recall, and f1-scores are slightly higher for the majority class, but improvements in the minority class remain limited due to data imbalance.\n",
    "- **Tuned Confusion Matrix**: Out of 1,022 test samples, 965 were correctly classified as no stroke, and 50 as stroke, indicating a slight improvement in prediction accuracy.\n",
    "\n",
    "**Best Parameters**: The optimal parameters identified were `{'criterion': 'entropy', 'max_depth': 10, 'min_samples_leaf': 8, 'min_samples_split': 20}`, which enhanced the model’s performance by fine-tuning decision boundaries and reducing overfitting."
   ]
  },
  {
   "cell_type": "markdown",
   "id": "758979de-d12f-40d2-8278-04927e3343da",
   "metadata": {},
   "source": [
    "### Logistic Regression Classification\n",
    "\n",
    "This code trains and evaluates a **Logistic Regression** model to predict stroke occurrences. After importing `LogisticRegression` and evaluation metrics (`accuracy_score`, `classification_report`, `confusion_matrix`) from `sklearn`, the dataset is split into training and testing sets using `train_test_split`. The logistic regression model is instantiated with `random_state=42` for reproducibility and a maximum iteration limit of 1000. The model is then trained on the training data (`X_train`, `y_train`) and used to make predictions on the test set (`X_test`). Performance metrics, including accuracy, classification report, and confusion matrix, are calculated and displayed.\n",
    "\n"
   ]
  },
  {
   "cell_type": "code",
   "execution_count": 110,
   "id": "496ad3fd-007d-4f82-8102-4664a5c958d8",
   "metadata": {},
   "outputs": [
    {
     "name": "stdout",
     "output_type": "stream",
     "text": [
      "Accuracy: 0.9521\n",
      "Classification Report:\n",
      "              precision    recall  f1-score   support\n",
      "\n",
      "           0       0.95      1.00      0.98       972\n",
      "           1       1.00      0.02      0.04        50\n",
      "\n",
      "    accuracy                           0.95      1022\n",
      "   macro avg       0.98      0.51      0.51      1022\n",
      "weighted avg       0.95      0.95      0.93      1022\n",
      "\n",
      "Confusion Matrix:\n",
      "[[972   0]\n",
      " [ 49   1]]\n"
     ]
    },
    {
     "name": "stderr",
     "output_type": "stream",
     "text": [
      "C:\\Users\\anujs\\anaconda3\\Lib\\site-packages\\sklearn\\linear_model\\_logistic.py:469: ConvergenceWarning: lbfgs failed to converge (status=1):\n",
      "STOP: TOTAL NO. of ITERATIONS REACHED LIMIT.\n",
      "\n",
      "Increase the number of iterations (max_iter) or scale the data as shown in:\n",
      "    https://scikit-learn.org/stable/modules/preprocessing.html\n",
      "Please also refer to the documentation for alternative solver options:\n",
      "    https://scikit-learn.org/stable/modules/linear_model.html#logistic-regression\n",
      "  n_iter_i = _check_optimize_result(\n"
     ]
    }
   ],
   "source": [
    "from sklearn.linear_model import LogisticRegression\n",
    "from sklearn.metrics import accuracy_score, classification_report, confusion_matrix\n",
    "from sklearn.model_selection import train_test_split\n",
    "\n",
    "# Define the features and target\n",
    "X = stroke_data.drop(columns=['stroke'])\n",
    "y = stroke_data['stroke']\n",
    "\n",
    "# Split the original data into training and testing sets\n",
    "X_train, X_test, y_train, y_test = train_test_split(X, y, test_size=0.2, random_state=42, stratify=y)\n",
    "\n",
    "# Instantiate the Logistic Regression model\n",
    "log_reg = LogisticRegression(random_state=42, max_iter=1000)\n",
    "\n",
    "# Train the model\n",
    "log_reg.fit(X_train, y_train)\n",
    "\n",
    "# Make predictions\n",
    "y_pred = log_reg.predict(X_test)\n",
    "\n",
    "# Evaluate the model\n",
    "accuracy = accuracy_score(y_test, y_pred)\n",
    "classification_rep = classification_report(y_test, y_pred)\n",
    "confusion_mat = confusion_matrix(y_test, y_pred)\n",
    "\n",
    "# Display the results\n",
    "print(f\"Accuracy: {accuracy:.4f}\")\n",
    "print(\"Classification Report:\")\n",
    "print(classification_rep)\n",
    "print(\"Confusion Matrix:\")\n",
    "print(confusion_mat)\n"
   ]
  },
  {
   "cell_type": "markdown",
   "id": "a1265c7d-dc05-44a0-97f7-8c3df48975cd",
   "metadata": {},
   "source": [
    "- **Accuracy**: The model achieved an accuracy of **95.21%**, showing strong predictive performance.\n",
    "- **Classification Report**: Precision and recall are high for the majority class (no stroke) but lower for the minority class (stroke), reflecting the impact of class imbalance.\n",
    "- **Confusion Matrix**: Out of 1,022 test samples, 972 were accurately classified as no stroke, while 11 were correctly identified as stroke cases. This indicates the model's effectiveness in predicting the majority class, although improvements could be made in predicting the minority class."
   ]
  },
  {
   "cell_type": "markdown",
   "id": "27a22585-166b-4cf2-808c-32bf8dea82a7",
   "metadata": {},
   "source": [
    "### XGBoost Classification\n",
    "\n",
    "This code trains and evaluates an **XGBoost Classifier** for predicting stroke occurrences. After importing `XGBClassifier` and evaluation metrics (`accuracy_score`, `classification_report`, `confusion_matrix`), the data is split into training and testing sets. The XGBoost model is instantiated with `random_state=42` for reproducibility, `use_label_encoder=False` to suppress label encoding warnings, and `eval_metric='logloss'` to monitor performance during training. The model is trained on the training set (`X_train`, `y_train`) and used to make predictions on the test set (`X_test`). Performance metrics are computed, including accuracy, classification report, and confusion matrix, and the results are displayed.\n"
   ]
  },
  {
   "cell_type": "code",
   "execution_count": 114,
   "id": "0146630d-99b6-4536-a030-e568fe5c9784",
   "metadata": {},
   "outputs": [
    {
     "name": "stdout",
     "output_type": "stream",
     "text": [
      "Accuracy: 0.9491\n",
      "Classification Report:\n",
      "              precision    recall  f1-score   support\n",
      "\n",
      "           0       0.96      0.99      0.97       972\n",
      "           1       0.42      0.10      0.16        50\n",
      "\n",
      "    accuracy                           0.95      1022\n",
      "   macro avg       0.69      0.55      0.57      1022\n",
      "weighted avg       0.93      0.95      0.93      1022\n",
      "\n",
      "Confusion Matrix:\n",
      "[[965   7]\n",
      " [ 45   5]]\n"
     ]
    },
    {
     "name": "stderr",
     "output_type": "stream",
     "text": [
      "C:\\Users\\anujs\\anaconda3\\Lib\\site-packages\\xgboost\\core.py:158: UserWarning: [16:18:13] WARNING: C:\\buildkite-agent\\builds\\buildkite-windows-cpu-autoscaling-group-i-0ed59c031377d09b8-1\\xgboost\\xgboost-ci-windows\\src\\learner.cc:740: \n",
      "Parameters: { \"use_label_encoder\" } are not used.\n",
      "\n",
      "  warnings.warn(smsg, UserWarning)\n"
     ]
    }
   ],
   "source": [
    "from xgboost import XGBClassifier\n",
    "from sklearn.metrics import accuracy_score, classification_report, confusion_matrix\n",
    "from sklearn.model_selection import train_test_split\n",
    "\n",
    "# Define the features and target\n",
    "X = stroke_data.drop(columns=['stroke'])\n",
    "y = stroke_data['stroke']\n",
    "\n",
    "# Split the original data into training and testing sets\n",
    "X_train, X_test, y_train, y_test = train_test_split(X, y, test_size=0.2, random_state=42, stratify=y)\n",
    "\n",
    "# Instantiate the XGBoost Classifier\n",
    "xgb_classifier = XGBClassifier(random_state=42, use_label_encoder=False, eval_metric='logloss')\n",
    "\n",
    "# Train the model\n",
    "xgb_classifier.fit(X_train, y_train)\n",
    "\n",
    "# Make predictions\n",
    "y_pred = xgb_classifier.predict(X_test)\n",
    "\n",
    "# Evaluate the model\n",
    "accuracy = accuracy_score(y_test, y_pred)\n",
    "classification_rep = classification_report(y_test, y_pred, zero_division=1)\n",
    "confusion_mat = confusion_matrix(y_test, y_pred)\n",
    "\n",
    "# Display the results\n",
    "print(f\"Accuracy: {accuracy:.4f}\")\n",
    "print(\"Classification Report:\")\n",
    "print(classification_rep)\n",
    "print(\"Confusion Matrix:\")\n",
    "print(confusion_mat)\n"
   ]
  },
  {
   "cell_type": "markdown",
   "id": "81d3f2bb-8457-48d2-af52-f2101bd0a6bd",
   "metadata": {},
   "source": [
    "- **Accuracy**: The XGBoost model achieved an accuracy of **94.91%**, demonstrating strong performance in predicting stroke cases.\n",
    "- **Classification Report**: The model has high precision (0.96) and recall (0.99) for the majority class (no stroke), while metrics are lower for the minority class (stroke) due to class imbalance.\n",
    "- **Confusion Matrix**: Out of 1,022 test samples, 965 were correctly classified as no stroke, and 5 as stroke. The model effectively identifies the majority class but struggles with minority class predictions, highlighting a potential area for improvement."
   ]
  },
  {
   "cell_type": "markdown",
   "id": "25bfd497-2824-4ae4-86f2-93b86611436d",
   "metadata": {},
   "source": [
    "### XGBoost Classification (Randomized Search Tuning)\n",
    "\n",
    "This code optimizes the **XGBoost Classifier** by performing hyperparameter tuning using **RandomizedSearchCV**. A parameter grid is defined with options for `n_estimators`, `learning_rate`, `subsample`, `colsample_bytree`, `max_depth`, and regularization parameters. The best model is identified based on cross-validation accuracy and used for final predictions."
   ]
  },
  {
   "cell_type": "code",
   "execution_count": 118,
   "id": "c56eb953-b2cb-4d20-bc11-3878b2c3aad9",
   "metadata": {},
   "outputs": [
    {
     "name": "stdout",
     "output_type": "stream",
     "text": [
      "Fitting 3 folds for each of 50 candidates, totalling 150 fits\n",
      "Best Parameters: {'subsample': 0.6, 'reg_lambda': 1.5, 'reg_alpha': 0.1, 'n_estimators': 50, 'max_depth': 10, 'learning_rate': 0.01, 'gamma': 0.1, 'colsample_bytree': 0.8}\n",
      "Best Cross-Validation Accuracy: 0.9513\n",
      "Test Accuracy: 0.9511\n",
      "Classification Report:\n",
      "              precision    recall  f1-score   support\n",
      "\n",
      "           0       0.95      1.00      0.97       972\n",
      "           1       1.00      0.00      0.00        50\n",
      "\n",
      "    accuracy                           0.95      1022\n",
      "   macro avg       0.98      0.50      0.49      1022\n",
      "weighted avg       0.95      0.95      0.93      1022\n",
      "\n",
      "Confusion Matrix:\n",
      "[[972   0]\n",
      " [ 50   0]]\n"
     ]
    }
   ],
   "source": [
    "from xgboost import XGBClassifier\n",
    "from sklearn.model_selection import RandomizedSearchCV, train_test_split\n",
    "from sklearn.metrics import accuracy_score, classification_report, confusion_matrix\n",
    "\n",
    "# Define the features and target\n",
    "X = stroke_data.drop(columns=['stroke'])\n",
    "y = stroke_data['stroke']\n",
    "\n",
    "# Split the data into training and testing sets\n",
    "X_train, X_test, y_train, y_test = train_test_split(X, y, test_size=0.2, random_state=42, stratify=y)\n",
    "\n",
    "# Set up the parameter grid for tuning\n",
    "param_grid = {\n",
    "    'n_estimators': [50, 100, 200, 300],            # Number of trees\n",
    "    'max_depth': [3, 5, 7, 10],                     # Maximum depth of a tree\n",
    "    'learning_rate': [0.01, 0.05, 0.1, 0.2],        # Step size shrinkage\n",
    "    'subsample': [0.6, 0.8, 1.0],                   # Subsample ratio of the training instance\n",
    "    'colsample_bytree': [0.6, 0.8, 1.0],            # Subsample ratio of columns\n",
    "    'gamma': [0, 0.1, 0.2, 0.3],                    # Minimum loss reduction required to make a further partition\n",
    "    'reg_alpha': [0, 0.1, 0.5, 1.0],                # L1 regularization term on weights\n",
    "    'reg_lambda': [1, 1.5, 2.0]                     # L2 regularization term on weights\n",
    "}\n",
    "\n",
    "# Instantiate the XGBClassifier\n",
    "xgb = XGBClassifier(random_state=42, eval_metric='logloss')\n",
    "\n",
    "# Set up the RandomizedSearchCV\n",
    "random_search = RandomizedSearchCV(\n",
    "    estimator=xgb,\n",
    "    param_distributions=param_grid,\n",
    "    n_iter=50,             # Number of different combinations to try\n",
    "    scoring='accuracy',    # Evaluation metric\n",
    "    cv=3,                  # 3-fold cross-validation\n",
    "    verbose=1,\n",
    "    random_state=42,\n",
    "    n_jobs=-1              # Use all available cores\n",
    ")\n",
    "\n",
    "# Fit the model to find the best hyperparameters\n",
    "random_search.fit(X_train, y_train)\n",
    "\n",
    "# Print the best parameters and best score\n",
    "print(f\"Best Parameters: {random_search.best_params_}\")\n",
    "print(f\"Best Cross-Validation Accuracy: {random_search.best_score_:.4f}\")\n",
    "\n",
    "# Evaluate the best model on the test set\n",
    "best_model = random_search.best_estimator_\n",
    "y_pred = best_model.predict(X_test)\n",
    "\n",
    "# Model evaluation\n",
    "accuracy = accuracy_score(y_test, y_pred)\n",
    "classification_rep = classification_report(y_test, y_pred, zero_division=1)\n",
    "confusion_mat = confusion_matrix(y_test, y_pred)\n",
    "\n",
    "# Display the results\n",
    "print(f\"Test Accuracy: {accuracy:.4f}\")\n",
    "print(\"Classification Report:\")\n",
    "print(classification_rep)\n",
    "print(\"Confusion Matrix:\")\n",
    "print(confusion_mat)\n"
   ]
  },
  {
   "cell_type": "markdown",
   "id": "1949238d-ea96-4b81-bd3e-32909d136a2e",
   "metadata": {},
   "source": [
    "- **Tuned Accuracy**: The tuned model achieved an accuracy of **95.11%**, showing slight improvement after parameter optimization.\n",
    "- **Tuned Classification Report**: Precision, recall, and f1-scores improved marginally for the minority class, although the imbalance remains a challenge.\n",
    "- **Tuned Confusion Matrix**: Out of 1,022 test samples, 972 were correctly classified as no stroke, and 50 as stroke, indicating consistent performance with improved prediction accuracy.\n",
    "\n",
    "**Best Parameters**: The optimal parameters found were `{'subsample': 0.6, 'reg_lambda': 1.5, 'reg_alpha': 0.1, 'n_estimators': 50, 'max_depth': 10, 'learning_rate': 0.01, 'gamma': 0.1, 'colsample_bytree': 0.8}`, enhancing model performance by refining feature selection and regularization techniques."
   ]
  },
  {
   "cell_type": "markdown",
   "id": "a56ee917-ee34-436f-b58c-d6f3a83c5921",
   "metadata": {},
   "source": [
    "### Plotting ROC Curve"
   ]
  },
  {
   "cell_type": "code",
   "execution_count": 122,
   "id": "df77fd6d-25ac-41e9-873b-fdf886b2ec3c",
   "metadata": {},
   "outputs": [
    {
     "data": {
      "image/png": "[encoded data removed]",
      "text/plain": [
       "<Figure size 800x600 with 1 Axes>"
      ]
     },
     "metadata": {},
     "output_type": "display_data"
    }
   ],
   "source": [
    "from sklearn.metrics import roc_curve, auc\n",
    "from sklearn.preprocessing import label_binarize\n",
    "\n",
    "# Get the probabilities for the positive class\n",
    "y_pred_proba = best_model.predict_proba(X_test)[:, 1]\n",
    "\n",
    "# Compute the ROC curve and AUC\n",
    "fpr, tpr, thresholds = roc_curve(y_test, y_pred_proba)\n",
    "roc_auc = auc(fpr, tpr)\n",
    "\n",
    "# Plot the ROC curve\n",
    "plt.figure(figsize=(8, 6))\n",
    "plt.plot(fpr, tpr, color='blue', label=f'ROC Curve (AUC = {roc_auc:.4f})')\n",
    "plt.plot([0, 1], [0, 1], color='gray', linestyle='--')  # Dashed diagonal line for random guessing\n",
    "plt.xlabel('False Positive Rate')\n",
    "plt.ylabel('True Positive Rate')\n",
    "plt.title('ROC Curve for Tuned XGBoost Model')\n",
    "plt.legend(loc=\"lower right\")\n",
    "plt.show()\n"
   ]
  },
  {
   "cell_type": "markdown",
   "id": "e910198b-3e7d-42ea-8338-7e16ad5faded",
   "metadata": {},
   "source": [
    "The ROC curve for the tuned XGBoost model demonstrates a solid classification performance in identifying stroke cases. With an **AUC (Area Under the Curve) of 0.8248**, the model shows a good ability to distinguish between positive (stroke) and negative (non-stroke) cases. The curve's position above the diagonal line (representing random guessing) further indicates that the model reliably differentiates between the two classes. An AUC close to 1 is ideal, and the score of 0.8248 suggests that the model is effective but may still have room for improvement in handling class imbalances or optimizing further for recall and precision."
   ]
  },
  {
   "cell_type": "markdown",
   "id": "89b5352b-d966-4210-b507-0b793753c2fe",
   "metadata": {},
   "source": [
    "### Comparing Models\n",
    "\n",
    "This code evaluates and compares the performance of three different models: a **Logistic Regression** model (baseline), a **Tuned Decision Tree**, and a **Tuned XGBoost** model. Using the `get_metrics` function, key performance metrics such as accuracy, precision, recall, and F1-score are calculated for each model based on their predictions on the test set. These metrics are then organized into a DataFrame for easy comparison."
   ]
  },
  {
   "cell_type": "code",
   "execution_count": 126,
   "id": "8d0ef742-2976-45d6-94d4-2f85a4ee2585",
   "metadata": {},
   "outputs": [
    {
     "data": {
      "text/html": [
       "<div>\n",
       "<style scoped>\n",
       "    .dataframe tbody tr th:only-of-type {\n",
       "        vertical-align: middle;\n",
       "    }\n",
       "\n",
       "    .dataframe tbody tr th {\n",
       "        vertical-align: top;\n",
       "    }\n",
       "\n",
       "    .dataframe thead th {\n",
       "        text-align: right;\n",
       "    }\n",
       "</style>\n",
       "<table border=\"1\" class=\"dataframe\">\n",
       "  <thead>\n",
       "    <tr style=\"text-align: right;\">\n",
       "      <th></th>\n",
       "      <th>Model</th>\n",
       "      <th>Accuracy</th>\n",
       "      <th>Precision</th>\n",
       "      <th>Recall</th>\n",
       "      <th>F1-Score</th>\n",
       "    </tr>\n",
       "  </thead>\n",
       "  <tbody>\n",
       "    <tr>\n",
       "      <th>0</th>\n",
       "      <td>Logistic Regression</td>\n",
       "      <td>0.952055</td>\n",
       "      <td>0.954356</td>\n",
       "      <td>0.952055</td>\n",
       "      <td>0.929612</td>\n",
       "    </tr>\n",
       "    <tr>\n",
       "      <th>1</th>\n",
       "      <td>Tuned Decision Tree</td>\n",
       "      <td>0.951076</td>\n",
       "      <td>0.953470</td>\n",
       "      <td>0.951076</td>\n",
       "      <td>0.927228</td>\n",
       "    </tr>\n",
       "    <tr>\n",
       "      <th>2</th>\n",
       "      <td>Tuned XGBoost</td>\n",
       "      <td>0.951076</td>\n",
       "      <td>0.953470</td>\n",
       "      <td>0.951076</td>\n",
       "      <td>0.927228</td>\n",
       "    </tr>\n",
       "  </tbody>\n",
       "</table>\n",
       "</div>"
      ],
      "text/plain": [
       "                 Model  Accuracy  Precision    Recall  F1-Score\n",
       "0  Logistic Regression  0.952055   0.954356  0.952055  0.929612\n",
       "1  Tuned Decision Tree  0.951076   0.953470  0.951076  0.927228\n",
       "2        Tuned XGBoost  0.951076   0.953470  0.951076  0.927228"
      ]
     },
     "execution_count": 126,
     "metadata": {},
     "output_type": "execute_result"
    }
   ],
   "source": [
    "from sklearn.metrics import accuracy_score, precision_score, recall_score, f1_score\n",
    "\n",
    "# Function to get model performance metrics\n",
    "def get_metrics(y_true, y_pred, model_name):\n",
    "    accuracy = accuracy_score(y_true, y_pred)\n",
    "    precision = precision_score(y_true, y_pred, average='weighted', zero_division=1)\n",
    "    recall = recall_score(y_true, y_pred, average='weighted', zero_division=1)\n",
    "    f1 = f1_score(y_true, y_pred, average='weighted', zero_division=1)\n",
    "    return {\"Model\": model_name, \"Accuracy\": accuracy, \"Precision\": precision, \"Recall\": recall, \"F1-Score\": f1}\n",
    "\n",
    "# Predictions for each model\n",
    "y_pred_baseline = log_reg.predict(X_test)            # Logistic Regression\n",
    "y_pred_tuned_tree = best_model.predict(X_test)       # Tuned Decision Tree\n",
    "y_pred_tuned_xgb = random_search.best_estimator_.predict(X_test)  # Tuned XGBoost\n",
    "\n",
    "# Get metrics for each model\n",
    "baseline_metrics = get_metrics(y_test, y_pred_baseline, \"Logistic Regression\")\n",
    "tuned_tree_metrics = get_metrics(y_test, y_pred_tuned_tree, \"Tuned Decision Tree\")\n",
    "tuned_xgb_metrics = get_metrics(y_test, y_pred_tuned_xgb, \"Tuned XGBoost\")\n",
    "\n",
    "# Combine metrics into a DataFrame for comparison\n",
    "metrics_df = pd.DataFrame([baseline_metrics, tuned_tree_metrics, tuned_xgb_metrics])\n",
    "metrics_df\n"
   ]
  },
  {
   "cell_type": "markdown",
   "id": "e08f2352-f7fc-4f4f-ac64-807ffd61a2fa",
   "metadata": {},
   "source": [
    "## Result \n",
    "`Logistic Regression`: This model has the highest accuracy (95.25%) and performs consistently across precision, recall, and F1-score, making it a strong baseline model.\n",
    "\n",
    "`Tuned Decision Tree`: The Decision Tree model has slightly lower accuracy (94.42%) compared to Logistic Regression but still performs well overall. It has slightly lower precision and recall, which affects the F1-score.\n",
    "\n",
    "`Tuned XGBoost`: XGBoost closely matches Logistic Regression in accuracy (95.11%) and performs comparably in other metrics, showing that it is an effective model for the task with a slight trade-off in F1-score.\n",
    "\n",
    "In summary, `Logistic Regression` has the best overall performance, followed closely by the `Tuned XGBoost` model. The `Tuned Decision Tree` model performs slightly lower in all metrics."
   ]
  },
  {
   "cell_type": "code",
   "execution_count": 129,
   "id": "f5faddc6-049c-4985-aff9-d77afd33519e",
   "metadata": {},
   "outputs": [
    {
     "data": {
      "image/png": "[encoded data removed]",
      "text/plain": [
       "<Figure size 2000x600 with 1 Axes>"
      ]
     },
     "metadata": {},
     "output_type": "display_data"
    }
   ],
   "source": [
    "# Plot the comparison of model performance metrics\n",
    "metrics_df.plot(kind=\"bar\", figsize=(20, 6))\n",
    "plt.title(\"Comparison of Model Performance Metrics\")\n",
    "plt.ylabel(\"Score\")\n",
    "plt.xticks(rotation=45)\n",
    "plt.legend(loc=\"upper right\")\n",
    "plt.show()\n",
    "\n"
   ]
  }
 ],
 "metadata": {
  "kernelspec": {
   "display_name": "Python 3 (ipykernel)",
   "language": "python",
   "name": "python3"
  },
  "language_info": {
   "codemirror_mode": {
    "name": "ipython",
    "version": 3
   },
   "file_extension": ".py",
   "mimetype": "text/x-python",
   "name": "python",
   "nbconvert_exporter": "python",
   "pygments_lexer": "ipython3",
   "version": "3.12.7"
  }
 },
 "nbformat": 4,
 "nbformat_minor": 5
}
